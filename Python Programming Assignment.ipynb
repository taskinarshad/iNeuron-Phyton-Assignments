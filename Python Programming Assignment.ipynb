{
 "cells": [
  {
   "cell_type": "markdown",
   "id": "e35d709b",
   "metadata": {},
   "source": [
    "# 1. Write a Python Program to Find LCM?"
   ]
  },
  {
   "cell_type": "code",
   "execution_count": 69,
   "id": "2573671c",
   "metadata": {},
   "outputs": [
    {
     "name": "stdout",
     "output_type": "stream",
     "text": [
      "Enter the first number: 2\n",
      "Enter the second number: 3\n",
      "LCM of 2 and 3 is 6\n"
     ]
    }
   ],
   "source": [
    "fNum = int(input(\"Enter the first number: \"))\n",
    "sNum = int(input(\"Enter the second number: \"))\n",
    "\n",
    "if(fNum>sNum):\n",
    "    maxNum = fNum\n",
    "else:\n",
    "    maxNum = sNum\n",
    "    \n",
    "while(True):\n",
    "    if(maxNum % fNum == 0 and maxNum % sNum == 0):\n",
    "        break\n",
    "    maxNum = maxNum + 1\n",
    "    \n",
    "print(f\"LCM of {fNum} and {sNum} is {maxNum}\")"
   ]
  },
  {
   "cell_type": "markdown",
   "id": "3e2072b3",
   "metadata": {},
   "source": [
    "# 2. Write a Python Program to Find HCF?"
   ]
  },
  {
   "cell_type": "code",
   "execution_count": 66,
   "id": "8294c04d",
   "metadata": {},
   "outputs": [
    {
     "name": "stdout",
     "output_type": "stream",
     "text": [
      "Enter the first number: 2\n",
      "Enter the second number: 4\n",
      "HCF of 2 and 4 is 2\n"
     ]
    }
   ],
   "source": [
    "fNum = int(input(\"Enter the first number: \"))\n",
    "sNum = int(input(\"Enter the second number: \"))\n",
    "\n",
    "if(fNum>sNum):\n",
    "    minNum = sNum\n",
    "else:\n",
    "    minNum = fNum\n",
    "    \n",
    "for i in range(1,minNum+1):\n",
    "    if (fNum % i ==0 and sNum % i==0):\n",
    "        hcf = i\n",
    "        \n",
    "print(f\"HCF of {fNum} and {sNum} is {hcf}\")"
   ]
  },
  {
   "cell_type": "markdown",
   "id": "51d360cc",
   "metadata": {},
   "source": [
    "# 3. Write a Python Program to Convert Decimal to Binary, Octal and Hexadecimal?"
   ]
  },
  {
   "cell_type": "markdown",
   "id": "9aaa841a",
   "metadata": {},
   "source": [
    "Decimal To Binary"
   ]
  },
  {
   "cell_type": "code",
   "execution_count": 70,
   "id": "302f71bb",
   "metadata": {},
   "outputs": [],
   "source": [
    "# this function will convert the float and integer value of decimal to binary\n",
    "def deciToBina(num):\n",
    "    binaryNum = \"\"\n",
    "    binaryFloat = \"\"\n",
    "    binaryInt = \"\"\n",
    "    if type(num) == int:\n",
    "        \n",
    "        if num == 0:\n",
    "            binaryNum = str(num)\n",
    "        else:\n",
    "            while(num>0):\n",
    "                reminder = num % 2\n",
    "                binaryNum = binaryNum + str(reminder)\n",
    "                num = num // 2\n",
    "         \n",
    "        print(binaryNum)\n",
    "        \n",
    "                \n",
    "    elif type(num) == float:\n",
    "        wholeNum = num\n",
    "        wholInt = int(wholeNum)\n",
    "#         print(wholInt)\n",
    "        wholFloat = wholeNum - wholInt\n",
    "#         print(wholFloat)\n",
    "        \n",
    "       \n",
    "        while(wholFloat>0):\n",
    "            intVal = int(wholFloat*2)\n",
    "            binaryFloat = binaryFloat + str(intVal)\n",
    "            wholFloat = (wholFloat*2)  - int(wholFloat*2)\n",
    "#             print(wholFloat)\n",
    "            \n",
    "        if type(wholInt) == int:\n",
    "            if wholInt == 0:\n",
    "                binaryInt = str(wholInt)\n",
    "            else:\n",
    "                while(wholInt>0):\n",
    "                    reminder = wholInt % 2\n",
    "                    binaryInt = binaryInt + str(reminder)\n",
    "                    wholInt = wholInt // 2\n",
    "                    \n",
    "        \n",
    "        binaryNum = binaryInt[::-1] + \".\" + binaryFloat\n",
    "        print(binaryNum)\n",
    "        \n",
    "        \n",
    "#     print(binaryNum[::-1])"
   ]
  },
  {
   "cell_type": "code",
   "execution_count": 71,
   "id": "d4112e8d",
   "metadata": {},
   "outputs": [
    {
     "name": "stdout",
     "output_type": "stream",
     "text": [
      "10100000.01\n"
     ]
    }
   ],
   "source": [
    "deciToBina(160.25)"
   ]
  },
  {
   "cell_type": "code",
   "execution_count": 72,
   "id": "d4052718",
   "metadata": {},
   "outputs": [],
   "source": [
    "def DecimalToBinary(num):\n",
    "    if (num>=1):\n",
    "        DecimalToBinary(num//2)\n",
    "    print(num%2,end=\"\")   "
   ]
  },
  {
   "cell_type": "code",
   "execution_count": 73,
   "id": "c8f52e0d",
   "metadata": {},
   "outputs": [
    {
     "name": "stdout",
     "output_type": "stream",
     "text": [
      "011000011"
     ]
    }
   ],
   "source": [
    "DecimalToBinary(195)"
   ]
  },
  {
   "cell_type": "code",
   "execution_count": 74,
   "id": "ecd4c56b",
   "metadata": {},
   "outputs": [
    {
     "data": {
      "text/plain": [
       "'0b11000011'"
      ]
     },
     "execution_count": 74,
     "metadata": {},
     "output_type": "execute_result"
    }
   ],
   "source": [
    "# Alternate way to convert Decimal to Binary\n",
    "bin(195)\n"
   ]
  },
  {
   "cell_type": "markdown",
   "id": "e3260d50",
   "metadata": {},
   "source": [
    "Decimal To Octal"
   ]
  },
  {
   "cell_type": "code",
   "execution_count": 75,
   "id": "c42ef772",
   "metadata": {},
   "outputs": [],
   "source": [
    "def deciToOcta(num):\n",
    "    octalNum = \"\"\n",
    "    if num==0:\n",
    "        octalNum = str(num)\n",
    "    else:\n",
    "        \n",
    "        while(num>0):\n",
    "            reminder = num % 8\n",
    "            octalNum = octalNum + str(reminder)\n",
    "            num = num // 8\n",
    "        \n",
    "    print(octalNum[::-1])"
   ]
  },
  {
   "cell_type": "code",
   "execution_count": 76,
   "id": "47c416b2",
   "metadata": {},
   "outputs": [
    {
     "name": "stdout",
     "output_type": "stream",
     "text": [
      "41\n"
     ]
    }
   ],
   "source": [
    "deciToOcta(33)"
   ]
  },
  {
   "cell_type": "code",
   "execution_count": 77,
   "id": "7095b4a8",
   "metadata": {},
   "outputs": [
    {
     "data": {
      "text/plain": [
       "'0o1700'"
      ]
     },
     "execution_count": 77,
     "metadata": {},
     "output_type": "execute_result"
    }
   ],
   "source": [
    "# Alternate way to convert Decimal to Octal\n",
    "oct(960)"
   ]
  },
  {
   "cell_type": "markdown",
   "id": "49ec25e8",
   "metadata": {},
   "source": [
    "Decimal To Hexadecimal"
   ]
  },
  {
   "cell_type": "code",
   "execution_count": 78,
   "id": "3a4ae3cc",
   "metadata": {},
   "outputs": [],
   "source": [
    "dict_hexa = {10:'A',11:'B',12:'C',13:'D',14:'E',15:'F'}\n",
    "def deciToHexa(num):\n",
    "    hexaNum = \"\"\n",
    "    \n",
    "    if num==0:\n",
    "        hexaNum = str(num)\n",
    "    else:\n",
    "        \n",
    "        while(num>0):\n",
    "            reminder = num % 16\n",
    "            if (reminder>9):\n",
    "                reminder = dict_hexa.get(reminder)\n",
    "                hexaNum = hexaNum + reminder\n",
    "            else:\n",
    "                hexaNum = hexaNum + str(reminder)\n",
    "            \n",
    "            num = num // 16\n",
    "            \n",
    "    print(hexaNum[::-1])   \n",
    "        "
   ]
  },
  {
   "cell_type": "code",
   "execution_count": 79,
   "id": "5912a43d",
   "metadata": {},
   "outputs": [
    {
     "name": "stdout",
     "output_type": "stream",
     "text": [
      "4CC\n"
     ]
    }
   ],
   "source": [
    "deciToHexa(1228)"
   ]
  },
  {
   "cell_type": "code",
   "execution_count": 80,
   "id": "fcede514",
   "metadata": {},
   "outputs": [
    {
     "data": {
      "text/plain": [
       "'0x4cc'"
      ]
     },
     "execution_count": 80,
     "metadata": {},
     "output_type": "execute_result"
    }
   ],
   "source": [
    "# Alternate way to convert Decimal to Hexadecimal\n",
    "hex(1228)"
   ]
  },
  {
   "cell_type": "markdown",
   "id": "bf1baabd",
   "metadata": {},
   "source": [
    "# 4. Write a Python Program To Find ASCII value of a character?"
   ]
  },
  {
   "cell_type": "code",
   "execution_count": 81,
   "id": "b1dbfb96",
   "metadata": {},
   "outputs": [
    {
     "name": "stdout",
     "output_type": "stream",
     "text": [
      "Enter The Character: A\n",
      "ASCII character of A is 65\n"
     ]
    }
   ],
   "source": [
    "def charToAscii(char):\n",
    "    if len(char)>1:\n",
    "        print(\"Please Enter a Single Character\")\n",
    "    else:\n",
    "        print(f\"ASCII character of {char} is {ord(char)}\")\n",
    "        \n",
    "chars = input(\"Enter The Character: \")\n",
    "charToAscii(chars)"
   ]
  },
  {
   "cell_type": "markdown",
   "id": "e3368265",
   "metadata": {},
   "source": [
    "# 5. Write a Python Program to Make a Simple Calculator with 4 basic mathematical operations?"
   ]
  },
  {
   "cell_type": "code",
   "execution_count": 82,
   "id": "7e8c529a",
   "metadata": {},
   "outputs": [
    {
     "name": "stdout",
     "output_type": "stream",
     "text": [
      "Enter the First Number: 4\n",
      "Enter a Arithmetic Operator: +\n",
      "Enter the Second Number: 2\n",
      "4 + 2= 6\n"
     ]
    }
   ],
   "source": [
    "def calculator(operator,num1,num2):\n",
    "    if(operator == \"+\"):\n",
    "        print(f\"{num1} + {num2}= {num1+num2}\")\n",
    "    elif(operator == \"-\"):\n",
    "        print(f\"{num1} - {num2}= {num1-num2}\")\n",
    "    elif(operator == \"*\"):\n",
    "        print(f\"{num1} X {num2}= {num1*num2}\")\n",
    "    elif(operator == \"/\"):\n",
    "        print(f\"{num1} / {num2}= {num1/num2}\")\n",
    "    else:\n",
    "        print(\"Give a Valid Operator\")\n",
    "        \n",
    "\n",
    "fNum = int(input(\"Enter the First Number: \"))\n",
    "op = input(\"Enter a Arithmetic Operator: \")\n",
    "sNum = int(input(\"Enter the Second Number: \"))\n",
    "\n",
    "calculator(op,fNum,sNum) "
   ]
  },
  {
   "cell_type": "code",
   "execution_count": null,
   "id": "5990f01a",
   "metadata": {},
   "outputs": [],
   "source": []
  }
 ],
 "metadata": {
  "kernelspec": {
   "display_name": "Python 3 (ipykernel)",
   "language": "python",
   "name": "python3"
  },
  "language_info": {
   "codemirror_mode": {
    "name": "ipython",
    "version": 3
   },
   "file_extension": ".py",
   "mimetype": "text/x-python",
   "name": "python",
   "nbconvert_exporter": "python",
   "pygments_lexer": "ipython3",
   "version": "3.9.7"
  }
 },
 "nbformat": 4,
 "nbformat_minor": 5
}
