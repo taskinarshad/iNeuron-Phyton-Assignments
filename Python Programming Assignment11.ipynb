{
 "cells": [
  {
   "cell_type": "markdown",
   "id": "84b0484c",
   "metadata": {},
   "source": [
    "1. Write a Python program to find words which are greater than given length k?"
   ]
  },
  {
   "cell_type": "code",
   "execution_count": 132,
   "id": "96af1d03",
   "metadata": {},
   "outputs": [
    {
     "name": "stdout",
     "output_type": "stream",
     "text": [
      "iNeuron Stack Science "
     ]
    }
   ],
   "source": [
    "def findWord(sent,wordLen):\n",
    "    txt = sent.split()\n",
    "    for i in txt:\n",
    "        if (len(i)>wordLen):\n",
    "            print(i,end=\" \")\n",
    "        \n",
    "findWord(\"iNeuron Full Stack Data Science Boot Camp\",4)"
   ]
  },
  {
   "cell_type": "markdown",
   "id": "57df3932",
   "metadata": {},
   "source": [
    "2. Write a Python program for removing i-th character from a string?"
   ]
  },
  {
   "cell_type": "code",
   "execution_count": 133,
   "id": "b5edef02",
   "metadata": {},
   "outputs": [
    {
     "name": "stdout",
     "output_type": "stream",
     "text": [
      "Datacience\n"
     ]
    }
   ],
   "source": [
    "def removChar(txt,charPos):\n",
    "    outTxt = \"\"\n",
    "    for i in range(len(txt)):\n",
    "        if i != charPos:\n",
    "            outTxt = outTxt + txt[i]\n",
    "            \n",
    "    print(outTxt)\n",
    "    \n",
    "removChar(\"DataScience\",4)"
   ]
  },
  {
   "cell_type": "markdown",
   "id": "b49a9c0f",
   "metadata": {},
   "source": [
    "3. Write a Python program to split and join a string?"
   ]
  },
  {
   "cell_type": "code",
   "execution_count": 134,
   "id": "39ae1a27",
   "metadata": {},
   "outputs": [],
   "source": [
    "def splitAndjoin(txt):\n",
    "    txt = txt.split()\n",
    "    join_txt = []\n",
    "    for i in txt:\n",
    "        join_txt.append(i)\n",
    "        \n",
    "    joinTxt = \" \".join(join_txt)\n",
    "    print(joinTxt)"
   ]
  },
  {
   "cell_type": "code",
   "execution_count": 135,
   "id": "b8420c8f",
   "metadata": {},
   "outputs": [
    {
     "name": "stdout",
     "output_type": "stream",
     "text": [
      "Taskin Arshad\n"
     ]
    }
   ],
   "source": [
    "splitAndjoin(\"Taskin Arshad\")"
   ]
  },
  {
   "cell_type": "markdown",
   "id": "32c3d5e6",
   "metadata": {},
   "source": [
    "4. Write a Python to check if a given string is binary string or not?"
   ]
  },
  {
   "cell_type": "code",
   "execution_count": 137,
   "id": "6576797b",
   "metadata": {},
   "outputs": [
    {
     "name": "stdout",
     "output_type": "stream",
     "text": [
      "12340 is not binary\n",
      "1010100 is binary\n"
     ]
    }
   ],
   "source": [
    "def checkBinaryStrin(txt):\n",
    "    binaryStr = \"01\"\n",
    "    for i in txt:\n",
    "        if i not in binaryStr:\n",
    "            print(f\"{txt} is not binary\")\n",
    "            break\n",
    "            \n",
    "    else:\n",
    "        print(f\"{txt} is binary\")\n",
    "        \n",
    "checkBinaryStrin(\"12340\")\n",
    "checkBinaryStrin(\"1010100\")"
   ]
  },
  {
   "cell_type": "markdown",
   "id": "92515ab4",
   "metadata": {},
   "source": [
    "5. Write a Python program to find uncommon words from two Strings?"
   ]
  },
  {
   "cell_type": "code",
   "execution_count": 138,
   "id": "ec55537f",
   "metadata": {},
   "outputs": [
    {
     "name": "stdout",
     "output_type": "stream",
     "text": [
      "  my atanu his anit\n"
     ]
    }
   ],
   "source": [
    "def findWord(txt1,txt2):\n",
    "    uncommon_word = \" \"\n",
    "    txt1 = txt1.lower().split()\n",
    "    txt2 = txt2.lower().split()\n",
    "    for i in txt1:\n",
    "        if i not in txt2:\n",
    "            uncommon_word = uncommon_word +\" \"+i\n",
    "            \n",
    "    for j in txt2:\n",
    "        if j not in txt1:\n",
    "            uncommon_word = uncommon_word+\" \"+j\n",
    "            \n",
    "    print(uncommon_word)\n",
    "    \n",
    "findWord(\"My Name is Atanu Kundu\",\"His name is Anit Kundu\")"
   ]
  },
  {
   "cell_type": "markdown",
   "id": "2aaa7485",
   "metadata": {},
   "source": [
    "\n",
    "6. Write a Python to find all duplicate characters in string?"
   ]
  },
  {
   "cell_type": "code",
   "execution_count": 139,
   "id": "cbfe7f34",
   "metadata": {},
   "outputs": [
    {
     "name": "stdout",
     "output_type": "stream",
     "text": [
      "['a', 't', ' ', 'c', 'i', 'e', 'n']\n"
     ]
    }
   ],
   "source": [
    "def findDuplicate(txt):\n",
    "    dupli_txt = []\n",
    "    txt = txt.lower()\n",
    "    for i in txt:\n",
    "        if txt.count(i) > 1:\n",
    "            if i not in dupli_txt:\n",
    "                dupli_txt.append(i)\n",
    "    print(dupli_txt)        \n",
    "        \n",
    "findDuplicate(\"Data Science in Python\")"
   ]
  },
  {
   "cell_type": "markdown",
   "id": "d5d9c234",
   "metadata": {},
   "source": [
    "7. Write a Python Program to check if a string contains any special character?"
   ]
  },
  {
   "cell_type": "code",
   "execution_count": 140,
   "id": "c24b8b4a",
   "metadata": {},
   "outputs": [
    {
     "name": "stdout",
     "output_type": "stream",
     "text": [
      "There are total 3 special character in 'My Name is @ 'Atanu Kundu'' which are ['@', \"'\", \"'\"]\n"
     ]
    }
   ],
   "source": [
    "def checkSpecialChar(txt):\n",
    "    specia_char = '''[@_!#$%^&*()<>?\"\"''/\\|}{~:]'''\n",
    "    char_list = []\n",
    "    count = 0\n",
    "    for i in txt:\n",
    "        if i in specia_char:\n",
    "            char_list.append(i)\n",
    "            count = count + 1\n",
    "            \n",
    "    print(f\"There are total {count} special character in '{txt}' which are {char_list}\")\n",
    "    \n",
    "\n",
    "checkSpecialChar(\"My Name is @ 'Atanu Kundu'\")"
   ]
  },
  {
   "cell_type": "code",
   "execution_count": null,
   "id": "5fe3f433",
   "metadata": {},
   "outputs": [],
   "source": []
  }
 ],
 "metadata": {
  "kernelspec": {
   "display_name": "Python 3 (ipykernel)",
   "language": "python",
   "name": "python3"
  },
  "language_info": {
   "codemirror_mode": {
    "name": "ipython",
    "version": 3
   },
   "file_extension": ".py",
   "mimetype": "text/x-python",
   "name": "python",
   "nbconvert_exporter": "python",
   "pygments_lexer": "ipython3",
   "version": "3.9.7"
  }
 },
 "nbformat": 4,
 "nbformat_minor": 5
}
