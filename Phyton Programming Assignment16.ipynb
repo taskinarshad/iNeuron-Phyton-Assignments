{
 "cells": [
  {
   "cell_type": "markdown",
   "id": "70093cbc",
   "metadata": {},
   "source": [
    "Question1.\n",
    "\n",
    "Write a function that stutters a word as if someone is struggling to read it. The first two letters are repeated twice with an ellipsis ... and space after each, and then the word is pronounced with a question mark ?.\n",
    "\n",
    "Examples\n",
    "\n",
    "stutter(\"incredible\") ➞ \"in... in... incredible?\"\n",
    "\n",
    "stutter(\"enthusiastic\") ➞ \"en... en... enthusiastic?\"\n",
    "\n",
    "stutter(\"outstanding\") ➞ \"ou... ou... outstanding?\"\n",
    "\n",
    "Hint :- Assume all input is in lower case and at least two characters long."
   ]
  },
  {
   "cell_type": "code",
   "execution_count": 1,
   "id": "c087c0c8",
   "metadata": {},
   "outputs": [
    {
     "name": "stdout",
     "output_type": "stream",
     "text": [
      "in......in......incredible?\n"
     ]
    }
   ],
   "source": [
    "def stutter(word):\n",
    "    s = word[:2]\n",
    "    return (2 * (s + '......')) + word + '?'\n",
    "\n",
    "print(stutter(\"incredible\"))"
   ]
  },
  {
   "cell_type": "markdown",
   "id": "b316fe09",
   "metadata": {},
   "source": [
    "Question 2.\n",
    "\n",
    "Create a function that takes an angle in radians and returns the corresponding angle in degrees rounded to one decimal place.\n",
    "\n",
    "Examples\n",
    "\n",
    "radians_to_degrees(1) ➞ 57.3\n",
    "\n",
    "radians_to_degrees(20) ➞ 1145.9\n",
    "\n",
    "radians_to_degrees(50) ➞ 2864.8"
   ]
  },
  {
   "cell_type": "code",
   "execution_count": 2,
   "id": "1f88337f",
   "metadata": {},
   "outputs": [
    {
     "name": "stdout",
     "output_type": "stream",
     "text": [
      "Enter the angle in Radians: 50\n",
      "50 radian(s) -> 2864.8 degrees\n",
      "Enter the angle in Radians: 5\n",
      "5 radian(s) -> 286.5 degrees\n",
      "Enter the angle in Radians: 8\n",
      "8 radian(s) -> 458.4 degrees\n"
     ]
    }
   ],
   "source": [
    "import math\n",
    "def radTodegree():\n",
    "    InNum = int(input('Enter the angle in Radians: '))\n",
    "    OutNum = (180/math.pi)*InNum\n",
    "    print(f\"{InNum} radian(s) -> {OutNum:.1f} degrees\")\n",
    "\n",
    "for x in range(3):\n",
    "    radTodegree()"
   ]
  },
  {
   "cell_type": "markdown",
   "id": "158596d0",
   "metadata": {},
   "source": [
    "Question3.\n",
    "\n",
    "In this challenge, establish if a given integer num is a Curzon number. If 1 plus 2 elevated to num is exactly divisible by 1 plus 2 multiplied by num, then num is a Curzon number. Given a non-negative integer num, implement a function that returns True if num is a Curzon number, or False otherwise. Examples: `is_curzon(5) ➞ True"
   ]
  },
  {
   "cell_type": "markdown",
   "id": "ea0dae65",
   "metadata": {},
   "source": [
    "2 ** 5 + 1 = 33\n",
    "2 * 5 + 1 = 11\n",
    "33 is a multiple of 11\n",
    "is_curzon(10) ➞ False\n",
    "\n",
    "2 ** 10 + 1 = 1025\n",
    "2 * 10 + 1 = 21\n",
    "1025 is not a multiple of 21\n",
    "is_curzon(14) ➞ True\n",
    "\n",
    "2 ** 14 + 1 = 16385\n",
    "2 * 14 + 1 = 29\n",
    "16385 is a multiple of 29`"
   ]
  },
  {
   "cell_type": "code",
   "execution_count": 3,
   "id": "e7227ff8",
   "metadata": {},
   "outputs": [
    {
     "name": "stdout",
     "output_type": "stream",
     "text": [
      "Enter a number: 5\n",
      "5 is Curzon Number\n",
      "Enter a number: 6\n",
      "6 is Curzon Number\n",
      "Enter a number: 45\n",
      "45 is Not a Curzon Number\n",
      "Enter a number: 5\n",
      "5 is Curzon Number\n"
     ]
    }
   ],
   "source": [
    "def checkCurzon():\n",
    "    in_num = int(input(\"Enter a number: \"))\n",
    "    if (pow(2,in_num)+1)%((2*in_num)+1) == 0:\n",
    "        print(f'{in_num} is Curzon Number')\n",
    "    else:\n",
    "        print(f'{in_num} is Not a Curzon Number')\n",
    "\n",
    "for  x in range(4):\n",
    "    checkCurzon()"
   ]
  },
  {
   "cell_type": "markdown",
   "id": "d0d3811b",
   "metadata": {},
   "source": [
    "Question4.\n",
    "\n",
    "Given the side length x find the area of a hexagon ?\n",
    "\n",
    "Examples:\n",
    "\n",
    "area_of_hexagon(1) ➞ 2.6\n",
    "\n",
    "area_of_hexagon(2) ➞ 10.4\n",
    "\n",
    "area_of_hexagon(3) ➞ 23.4"
   ]
  },
  {
   "cell_type": "code",
   "execution_count": 4,
   "id": "16777a17",
   "metadata": {},
   "outputs": [
    {
     "name": "stdout",
     "output_type": "stream",
     "text": [
      "Enter the side length of a hexagon: 5\n",
      "Area for Hexagon of sidelength 5 -> 65.0\n",
      "Enter the side length of a hexagon: 4\n",
      "Area for Hexagon of sidelength 4 -> 41.6\n",
      "Enter the side length of a hexagon: 6\n",
      "Area for Hexagon of sidelength 6 -> 93.5\n"
     ]
    }
   ],
   "source": [
    "import math\n",
    "def areaofHexagon():\n",
    "    in_num = int(input('Enter the side length of a hexagon: '))\n",
    "    out_num = ((3*math.sqrt(3))/2)*(pow(in_num,2))\n",
    "    print(f'Area for Hexagon of sidelength {in_num} -> {out_num:.1f}')\n",
    "\n",
    "for x in range(3):\n",
    "    areaofHexagon()"
   ]
  },
  {
   "cell_type": "markdown",
   "id": "b2b79ff6",
   "metadata": {},
   "source": [
    "\n",
    "Question5. Create a function that returns a base-2 (binary) representation of a base-10 (decimal) string number. To convert is simple:\n",
    "\n",
    "((2) means base-2 and (10) means base-10) 010101001(2) = 1 + 8 + 32 + 128. Going from right to left, the value of the most right bit is 1, now from that every bit to the left will be x2 the value, value of an 8 bit binary numbers are (256, 128, 64, 32, 16, 8, 4, 2, 1). Examples: `binary(1) ➞ \"1\""
   ]
  },
  {
   "cell_type": "markdown",
   "id": "2d1678a1",
   "metadata": {},
   "source": [
    "1* 1 = 1\n",
    "binary(5) ➞ \"101\"\n",
    "\n",
    "1 1 + 1 4 = 5\n",
    "binary(10) ➞ \"1010\"\n",
    "\n",
    "1 2 + 1 8 = 10`"
   ]
  },
  {
   "cell_type": "code",
   "execution_count": 5,
   "id": "6b0d3a54",
   "metadata": {},
   "outputs": [
    {
     "name": "stdout",
     "output_type": "stream",
     "text": [
      "Enter a Number: 15\n",
      "Binary of 15 -> 1111\n",
      "Enter a Number: 36\n",
      "Binary of 36 -> 100100\n",
      "Enter a Number: 36\n",
      "Binary of 36 -> 100100\n"
     ]
    }
   ],
   "source": [
    "def getBinary():\n",
    "    in_num = int(input(\"Enter a Number: \"))\n",
    "    out_num = bin(in_num).replace('0b','')\n",
    "    print(f'Binary of {in_num} -> {out_num}')\n",
    "\n",
    "for x in range(3):\n",
    "    getBinary()"
   ]
  },
  {
   "cell_type": "code",
   "execution_count": null,
   "id": "b4cedb4f",
   "metadata": {},
   "outputs": [],
   "source": []
  }
 ],
 "metadata": {
  "kernelspec": {
   "display_name": "Python 3 (ipykernel)",
   "language": "python",
   "name": "python3"
  },
  "language_info": {
   "codemirror_mode": {
    "name": "ipython",
    "version": 3
   },
   "file_extension": ".py",
   "mimetype": "text/x-python",
   "name": "python",
   "nbconvert_exporter": "python",
   "pygments_lexer": "ipython3",
   "version": "3.9.7"
  }
 },
 "nbformat": 4,
 "nbformat_minor": 5
}
