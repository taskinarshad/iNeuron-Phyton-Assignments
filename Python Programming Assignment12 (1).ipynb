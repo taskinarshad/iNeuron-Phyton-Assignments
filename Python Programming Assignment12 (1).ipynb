{
 "cells": [
  {
   "cell_type": "markdown",
   "id": "c4abb4ec",
   "metadata": {},
   "source": [
    "1. Write a Python program to Extract Unique values dictionary values?"
   ]
  },
  {
   "cell_type": "code",
   "execution_count": 141,
   "id": "1788698b",
   "metadata": {},
   "outputs": [
    {
     "name": "stdout",
     "output_type": "stream",
     "text": [
      "{0, 1, 2, 3, 4, 5, 6, 8, 22, 25, 89, 30}\n"
     ]
    }
   ],
   "source": [
    "dictValue = {'a' : [1,2,3,4], 'b' : [2,0,30,5], 'c' : [22,1,4,8], 'd' : [6,3,89,25]}\n",
    "\n",
    "uniq_val = set([j for i in dictValue.values() for j in i])\n",
    "print(uniq_val)"
   ]
  },
  {
   "cell_type": "code",
   "execution_count": 142,
   "id": "82c942f3",
   "metadata": {},
   "outputs": [
    {
     "name": "stdout",
     "output_type": "stream",
     "text": [
      "{0, 1, 2, 3, 4, 5, 6, 8, 22, 25, 89, 30}\n"
     ]
    }
   ],
   "source": [
    "# Alternate way to extract Unique Values from dict values\n",
    "dictValue = {'a' : [1,2,3,4], 'b' : [2,0,30,5], 'c' : [22,1,4,8], 'd' : [6,3,89,25]}\n",
    "\n",
    "b = set()\n",
    "for i in dictValue.values():\n",
    "    for j in i:\n",
    "        b.add(j)\n",
    "        \n",
    "print(b)"
   ]
  },
  {
   "cell_type": "markdown",
   "id": "814c5559",
   "metadata": {},
   "source": [
    "2. Write a Python program to find the sum of all items in a dictionary?"
   ]
  },
  {
   "cell_type": "code",
   "execution_count": 143,
   "id": "c52bb0fa",
   "metadata": {},
   "outputs": [
    {
     "name": "stdout",
     "output_type": "stream",
     "text": [
      "10\n"
     ]
    }
   ],
   "source": [
    "dict_data = {'a':1,'b':2,'c':3,'d':4}\n",
    "sum = 0\n",
    "for k , v in dict_data.items():\n",
    "    sum = sum + v\n",
    "    \n",
    "print(sum)"
   ]
  },
  {
   "cell_type": "markdown",
   "id": "041e99da",
   "metadata": {},
   "source": [
    "3. Write a Python program to Merging two Dictionaries?"
   ]
  },
  {
   "cell_type": "code",
   "execution_count": 144,
   "id": "eae05cdf",
   "metadata": {},
   "outputs": [
    {
     "name": "stdout",
     "output_type": "stream",
     "text": [
      "dict_a=  {'a': 1, 'b': 2}\n",
      "dict_b=  {'b': 3, 'c': 4}\n",
      "dict_both=  {'a': 1, 'b': 3, 'c': 4}\n"
     ]
    }
   ],
   "source": [
    "dict_a = {'a':1,'b':2}\n",
    "dict_b = {'b':3,'c':4}\n",
    "dict_both = dict_a.copy()\n",
    "dict_both.update(dict_b)\n",
    "print(\"dict_a= \",dict_a)\n",
    "print(\"dict_b= \",dict_b)\n",
    "print(\"dict_both= \",dict_both)"
   ]
  },
  {
   "cell_type": "markdown",
   "id": "75b47eeb",
   "metadata": {},
   "source": [
    "4. Write a Python program to convert key-values list to flat dictionary?"
   ]
  },
  {
   "cell_type": "code",
   "execution_count": 145,
   "id": "10f8c1f6",
   "metadata": {},
   "outputs": [
    {
     "name": "stdout",
     "output_type": "stream",
     "text": [
      "{1: 'Jan', 2: 'Feb', 3: 'Mar', 4: 'Apr'}\n"
     ]
    }
   ],
   "source": [
    "dict_val = {\"month_num\" : [1,2,3,4], \"month_name\" : [\"Jan\",\"Feb\",\"Mar\",\"Apr\"]}\n",
    "key_list = []\n",
    "flat_dict = {}\n",
    "for i in dict_val.values():\n",
    "    key_list.append(i)\n",
    "    \n",
    "# print(key_list)\n",
    "for i in key_list:\n",
    "    m = 0\n",
    "    for j in key_list[0]:\n",
    "        flat_dict[j] = key_list[1][m]\n",
    "        m = m + 1\n",
    "        \n",
    "print(flat_dict)"
   ]
  },
  {
   "cell_type": "code",
   "execution_count": 146,
   "id": "5863e30c",
   "metadata": {},
   "outputs": [
    {
     "name": "stdout",
     "output_type": "stream",
     "text": [
      "{1: 'Jan', 2: 'Feb', 3: 'Mar', 4: 'Apr'}\n"
     ]
    }
   ],
   "source": [
    "# Alternate way to convert key-values list to flat dictionary\n",
    "dict_val = {\"month_num\" : [1,2,3,4], \"month_name\" : [\"Jan\",\"Feb\",\"Mar\",\"Apr\"]}\n",
    "\n",
    "flat_dicta = dict(zip(dict_val[\"month_num\"],dict_val[\"month_name\"]))\n",
    "print(flat_dict)"
   ]
  },
  {
   "cell_type": "markdown",
   "id": "4970fdc4",
   "metadata": {},
   "source": [
    "5. Write a Python program to insertion at the beginning in OrderedDict?"
   ]
  },
  {
   "cell_type": "code",
   "execution_count": 147,
   "id": "f921f839",
   "metadata": {},
   "outputs": [
    {
     "name": "stdout",
     "output_type": "stream",
     "text": [
      "OrderedDict([(1, 'a'), (2, 'b')])\n",
      "OrderedDict([(1, 'a'), (2, 'b'), (3, 'C')])\n",
      "OrderedDict([(3, 'C'), (1, 'a'), (2, 'b')])\n"
     ]
    }
   ],
   "source": [
    "from collections import OrderedDict\n",
    "\n",
    "dict_val = OrderedDict({1:\"a\",2:\"b\"})\n",
    "print(dict_val)\n",
    "dict_two = {3:\"C\"}\n",
    "dict_val.update(dict_two)\n",
    "print(dict_val)\n",
    "dict_val.move_to_end(3,last=False)\n",
    "print(dict_val)\n"
   ]
  },
  {
   "cell_type": "code",
   "execution_count": 148,
   "id": "33ab2a7f",
   "metadata": {},
   "outputs": [
    {
     "name": "stdout",
     "output_type": "stream",
     "text": [
      "{3: 'c', 1: 'a', 2: 'b'}\n"
     ]
    }
   ],
   "source": [
    "# Alternate way to insertion at the beginning in Orderdict\n",
    "dict_val = {1:\"a\",2:\"b\"}\n",
    "copy_dic = dict_val.copy()\n",
    "dict_val.clear()\n",
    "dict_val[3] = \"c\"\n",
    "dict_val.update(copy_dic)\n",
    "print(dict_val)"
   ]
  },
  {
   "cell_type": "markdown",
   "id": "84e6d05d",
   "metadata": {},
   "source": [
    "6. Write a Python program to check order of character in string using OrderedDict()?"
   ]
  },
  {
   "cell_type": "code",
   "execution_count": 149,
   "id": "63d43fe9",
   "metadata": {},
   "outputs": [
    {
     "name": "stdout",
     "output_type": "stream",
     "text": [
      "Enter the Text: sort\n",
      "Enter the Pattern: ro\n",
      "OrderedDict([('s', None), ('o', None), ('r', None), ('t', None)])\n",
      "Pattern is not matched\n"
     ]
    }
   ],
   "source": [
    "from collections import OrderedDict\n",
    "\n",
    "def checkCharOrder(txt,pattern):\n",
    "    \n",
    "    char_dict = OrderedDict.fromkeys(txt)\n",
    "    print(char_dict)\n",
    "    patternLen = 0\n",
    "    \n",
    "    for key,value in char_dict.items():\n",
    "        if (key == pattern[patternLen]):\n",
    "            patternLen = patternLen + 1\n",
    "            \n",
    "        if patternLen == len(pattern):\n",
    "            return True\n",
    "        \n",
    "    return False\n",
    "        \n",
    "\n",
    "txt_valu = input(\"Enter the Text: \")\n",
    "pattern_valu = input(\"Enter the Pattern: \")\n",
    "\n",
    "if(checkCharOrder(txt_valu,pattern_valu)):\n",
    "    print(\"Pattern is matched\")\n",
    "else:\n",
    "    print(\"Pattern is not matched\")"
   ]
  },
  {
   "cell_type": "markdown",
   "id": "487ae071",
   "metadata": {},
   "source": [
    "7. Write a Python program to sort Python Dictionaries by Key or Value?"
   ]
  },
  {
   "cell_type": "code",
   "execution_count": 150,
   "id": "a3faedf1",
   "metadata": {},
   "outputs": [
    {
     "name": "stdout",
     "output_type": "stream",
     "text": [
      "How do You want to sort the Dictionaries by Key/Value?{'d': 1, 'b': 2, 'a': 3, 'e': 4, 'c': 5}\n",
      "How do You want to sort the Dictionaries by Key/Value?{'a': 3, 'b': 2, 'c': 5, 'd': 1, 'e': 4}\n"
     ]
    }
   ],
   "source": [
    "def sortDict(d):\n",
    "    inp = input(\"How do You want to sort the Dictionaries by Key/Value?\").lower()\n",
    "    if (inp == \"key\"):\n",
    "        l_key = list(d.items())\n",
    "        l_key.sort()\n",
    "        print(dict(l_key))\n",
    "        \n",
    "    elif (inp == \"value\"):\n",
    "        l_value = list(d.items())\n",
    "        \n",
    "        for i in range(len(l_value)):\n",
    "            for j in range(len(l_value) - 1):\n",
    "                if (l_value[j][1] > l_value[j+1][1]):\n",
    "                    temp = l_value[j]\n",
    "                    l_value[j] = l_value[j+1]\n",
    "                    l_value[j+1] = temp\n",
    "                    \n",
    "                    \n",
    "        print(dict(l_value))\n",
    "        \n",
    "        \n",
    "dict_valu = {'b':2,'e':4,'a':3,'d':1,'c':5}\n",
    "sortDict(dict_valu)\n",
    "sortDict(dict_valu)"
   ]
  },
  {
   "cell_type": "code",
   "execution_count": null,
   "id": "d11baf17",
   "metadata": {},
   "outputs": [],
   "source": []
  }
 ],
 "metadata": {
  "kernelspec": {
   "display_name": "Python 3 (ipykernel)",
   "language": "python",
   "name": "python3"
  },
  "language_info": {
   "codemirror_mode": {
    "name": "ipython",
    "version": 3
   },
   "file_extension": ".py",
   "mimetype": "text/x-python",
   "name": "python",
   "nbconvert_exporter": "python",
   "pygments_lexer": "ipython3",
   "version": "3.9.7"
  }
 },
 "nbformat": 4,
 "nbformat_minor": 5
}
