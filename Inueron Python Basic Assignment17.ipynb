{
 "cells": [
  {
   "cell_type": "markdown",
   "id": "6b7c3830",
   "metadata": {},
   "source": [
    "Question1. Create a function that takes three arguments a, b, c and returns the sum of the numbers that are evenly divided by c from the range a, b inclusive."
   ]
  },
  {
   "cell_type": "markdown",
   "id": "aa54cfbe",
   "metadata": {},
   "source": [
    "\n",
    "evenly_divisible(1, 10, 20) ➞ 0\n",
    "# No number between 1 and 10 can be evenly divided by 20.\n",
    "\n",
    "evenly_divisible(1, 10, 2) ➞ 30\n",
    "# 2 + 4 + 6 + 8 + 10 = 30\n",
    "\n",
    "evenly_divisible(1, 10, 3) ➞ 18\n",
    "# 3 + 6 + 9 = 18"
   ]
  },
  {
   "cell_type": "code",
   "execution_count": 1,
   "id": "30873f30",
   "metadata": {},
   "outputs": [
    {
     "name": "stdout",
     "output_type": "stream",
     "text": [
      "No number is divisible by 20\n",
      "30\n",
      "18\n"
     ]
    }
   ],
   "source": [
    "def even_divi(a ,b ,c):\n",
    "    sum = 0\n",
    "    for i in range(a,b+1):\n",
    "        if (i % c== 0):\n",
    "            sum = sum + i\n",
    "            \n",
    "    if(sum>0):\n",
    "        print(sum)\n",
    "    else:\n",
    "        print(f\"No number is divisible by {c}\")\n",
    "        \n",
    "even_divi(1,10,20)\n",
    "even_divi(1,10,2)            \n",
    "even_divi(1,10,3)"
   ]
  },
  {
   "cell_type": "markdown",
   "id": "6737e542",
   "metadata": {},
   "source": [
    "Question2.Create a function that returns True if a given inequality expression is correct and False otherwise."
   ]
  },
  {
   "cell_type": "markdown",
   "id": "da2dd8fc",
   "metadata": {},
   "source": [
    "Examples\n",
    "correct_signs(\"3 < 7 < 11\") ➞ True\n",
    "\n",
    "correct_signs(\"13 > 44 > 33 > 1\") ➞ False\n",
    "\n",
    "correct_signs(\"1 < 2 < 6 < 9 > 3\") ➞ True"
   ]
  },
  {
   "cell_type": "code",
   "execution_count": 2,
   "id": "e670b724",
   "metadata": {},
   "outputs": [
    {
     "name": "stdout",
     "output_type": "stream",
     "text": [
      "True\n",
      "False\n",
      "True\n"
     ]
    }
   ],
   "source": [
    "def correct_signs(exp):\n",
    "    return eval(exp)\n",
    "\n",
    "print(correct_signs(\"3 < 7 < 11\"))\n",
    "print(correct_signs(\"13 > 44 > 33 > 1\"))\n",
    "print(correct_signs(\"1 < 2 < 6 < 9 > 3\"))"
   ]
  },
  {
   "cell_type": "markdown",
   "id": "2a6b13d1",
   "metadata": {},
   "source": [
    "Question3.Create a function that replaces all the vowels in a string with a specified character."
   ]
  },
  {
   "cell_type": "markdown",
   "id": "6a47cc71",
   "metadata": {},
   "source": [
    "Examples\n",
    "replace_vowels(\"the aardvark\", \"#\") ➞ \"th# ##rdv#rk\"\n",
    "\n",
    "replace_vowels(\"minnie mouse\", \"?\") ➞ \"m?nn?? m??s?\"\n",
    "\n",
    "replace_vowels(\"shakespeare\", \"*\") ➞ \"sh*k*sp**r*\""
   ]
  },
  {
   "cell_type": "code",
   "execution_count": 3,
   "id": "6d4705d6",
   "metadata": {},
   "outputs": [
    {
     "name": "stdout",
     "output_type": "stream",
     "text": [
      "th# ##rdv#rk\n",
      "m?nn?? m??s?\n",
      "sh*k*sp**r*\n"
     ]
    }
   ],
   "source": [
    "def vowel_replace(txt,replac):\n",
    "    vowel_list = [\"a\",\"e\",\"i\",\"o\",\"u\"]\n",
    "    lower_txt = txt.lower()\n",
    "    for i in lower_txt:\n",
    "        if i in vowel_list:\n",
    "            lower_txt = lower_txt.replace(i,replac)\n",
    "            \n",
    "    print(lower_txt)\n",
    "            \n",
    "vowel_replace(\"the aardvark\",\"#\")\n",
    "vowel_replace(\"minnie mouse\",\"?\")\n",
    "vowel_replace(\"shakespeare\",\"*\")"
   ]
  },
  {
   "cell_type": "markdown",
   "id": "712d6931",
   "metadata": {},
   "source": [
    "Question4.Write a function that calculates the factorial of a number recursively."
   ]
  },
  {
   "cell_type": "markdown",
   "id": "e23526a8",
   "metadata": {},
   "source": [
    "Examples\n",
    "factorial(5) ➞ 120\n",
    "\n",
    "factorial(3) ➞ 6\n",
    "\n",
    "factorial(1) ➞ 1\n",
    "\n",
    "factorial(0) ➞ 1"
   ]
  },
  {
   "cell_type": "code",
   "execution_count": 4,
   "id": "652d476f",
   "metadata": {},
   "outputs": [],
   "source": [
    "def factNumRecu(num):\n",
    "    if(num==1):\n",
    "        return 1\n",
    "    else:\n",
    "        return num * factNumRecu(num - 1)\n",
    "    "
   ]
  },
  {
   "cell_type": "code",
   "execution_count": 5,
   "id": "c8eba3ca",
   "metadata": {},
   "outputs": [
    {
     "name": "stdout",
     "output_type": "stream",
     "text": [
      "120\n"
     ]
    }
   ],
   "source": [
    "result = factNumRecu(5)\n",
    "print(result)"
   ]
  },
  {
   "cell_type": "markdown",
   "id": "63951347",
   "metadata": {},
   "source": [
    "Question 5\n",
    "Hamming distance is the number of characters that differ between two strings.\n",
    "To illustrate:\n",
    "\n",
    "String1: \"abcbba\"\n",
    "String2: \"abcbda\"\n",
    "\n",
    "Hamming Distance: 1 - \"b\" vs. \"d\" is the only difference. Create a function that computes the hamming distance between two strings.\n",
    "\n",
    "Examples\n",
    "hamming_distance(\"abcde\", \"bcdef\") ➞ 5\n",
    "\n",
    "hamming_distance(\"abcde\", \"abcde\") ➞ 0\n",
    "\n",
    "hamming_distance(\"strong\", \"strung\") ➞ 1"
   ]
  },
  {
   "cell_type": "code",
   "execution_count": 6,
   "id": "9fe124c5",
   "metadata": {},
   "outputs": [],
   "source": [
    "def hammingDistance(string1,string2):\n",
    "    count = 0\n",
    "    for x in range(len(string1)):\n",
    "            if string1[x] != string2[x]:\n",
    "                count = count + 1\n",
    "                \n",
    "    print(f\"Hamming Distance between {string1} and {string2} is {count}\")"
   ]
  },
  {
   "cell_type": "code",
   "execution_count": 7,
   "id": "f2363117",
   "metadata": {},
   "outputs": [
    {
     "name": "stdout",
     "output_type": "stream",
     "text": [
      "Hamming Distance between abcde and bcdef is 5\n"
     ]
    }
   ],
   "source": [
    "hammingDistance(\"abcde\",\"bcdef\")"
   ]
  },
  {
   "cell_type": "code",
   "execution_count": null,
   "id": "7dfa3a26",
   "metadata": {},
   "outputs": [],
   "source": []
  }
 ],
 "metadata": {
  "kernelspec": {
   "display_name": "Python 3 (ipykernel)",
   "language": "python",
   "name": "python3"
  },
  "language_info": {
   "codemirror_mode": {
    "name": "ipython",
    "version": 3
   },
   "file_extension": ".py",
   "mimetype": "text/x-python",
   "name": "python",
   "nbconvert_exporter": "python",
   "pygments_lexer": "ipython3",
   "version": "3.9.7"
  }
 },
 "nbformat": 4,
 "nbformat_minor": 5
}
