{
 "cells": [
  {
   "cell_type": "markdown",
   "id": "c4adbd6f",
   "metadata": {},
   "source": [
    "# 1. Write a Python Program to Display Fibonacci Sequence Using Recursion?"
   ]
  },
  {
   "cell_type": "code",
   "execution_count": 83,
   "id": "48f1fade",
   "metadata": {},
   "outputs": [
    {
     "name": "stdout",
     "output_type": "stream",
     "text": [
      "Enter The Range to print Fibonacci Series: 6\n",
      "0,1,1,2,3,5\n"
     ]
    }
   ],
   "source": [
    "def fiboRecur(n):\n",
    "    if n == 0:\n",
    "        return 0\n",
    "    elif n == 1:\n",
    "        return 1\n",
    "    else:\n",
    "        return fiboRecur(n-1) + fiboRecur(n-2)\n",
    "    \n",
    "numb = int(input(\"Enter The Range to print Fibonacci Series: \"))\n",
    "\n",
    "for i in range(numb):\n",
    "    if(i<numb - 1):\n",
    "        print(fiboRecur(i),end=\",\")\n",
    "    else:\n",
    "        print(fiboRecur(i))"
   ]
  },
  {
   "cell_type": "markdown",
   "id": "30e0a056",
   "metadata": {},
   "source": [
    "# 2. Write a Python Program to Find Factorial of Number Using Recursion?"
   ]
  },
  {
   "cell_type": "code",
   "execution_count": 84,
   "id": "8325e832",
   "metadata": {},
   "outputs": [],
   "source": [
    "def factRecur(n):\n",
    "    if(n==0 or n==1):\n",
    "        return 1\n",
    "    else:\n",
    "        return n * factRecur(n-1)"
   ]
  },
  {
   "cell_type": "code",
   "execution_count": 85,
   "id": "2058d0d1",
   "metadata": {},
   "outputs": [
    {
     "data": {
      "text/plain": [
       "120"
      ]
     },
     "execution_count": 85,
     "metadata": {},
     "output_type": "execute_result"
    }
   ],
   "source": [
    "factRecur(5)"
   ]
  },
  {
   "cell_type": "markdown",
   "id": "97bd55d9",
   "metadata": {},
   "source": [
    "# 3. Write a Python Program to calculate your Body Mass Index?"
   ]
  },
  {
   "cell_type": "code",
   "execution_count": 86,
   "id": "354efd2a",
   "metadata": {},
   "outputs": [
    {
     "name": "stdout",
     "output_type": "stream",
     "text": [
      "Enter Your Height(meter): 1.8\n",
      "Enter Your Weight(kgs): 70\n",
      "Your BMI is 21.604938271604937 and status is Normalrange\n"
     ]
    }
   ],
   "source": [
    "# BMI = weight / height ** 2\n",
    "\n",
    "def calculateBMI(height,weight):\n",
    "    BMI = weight / height ** 2\n",
    "    if(BMI < 18.5):\n",
    "        status = \"underweight\"\n",
    "    elif(BMI>=18.5 and BMI<25):\n",
    "        status = \"Normalrange\"\n",
    "    elif(BMI>=25 and BMI<30):\n",
    "        status = \"Overweight\"\n",
    "    elif(BMI>=30):\n",
    "        status = \"Obese\"\n",
    "        \n",
    "    print(f\"Your BMI is {BMI} and status is {status}\")\n",
    "    \n",
    "h = float(input(\"Enter Your Height(meter): \"))\n",
    "w = float(input(\"Enter Your Weight(kgs): \"))\n",
    "calculateBMI(h,w)"
   ]
  },
  {
   "cell_type": "markdown",
   "id": "5749f1e5",
   "metadata": {},
   "source": [
    "# 4. Write a Python Program to calculate the natural logarithm of any number?"
   ]
  },
  {
   "cell_type": "code",
   "execution_count": 87,
   "id": "47a0142e",
   "metadata": {},
   "outputs": [
    {
     "name": "stdout",
     "output_type": "stream",
     "text": [
      "Enter The Number:78\n",
      "The Natural Logarithm of 78 is 4.356708826689592\n"
     ]
    }
   ],
   "source": [
    "import math\n",
    "\n",
    "def naturalLogCal(numb):\n",
    "    print(f\"The Natural Logarithm of {numb} is {math.log(numb)}\")\n",
    "    \n",
    "num = int(input(\"Enter The Number:\"))\n",
    "naturalLogCal(num)"
   ]
  },
  {
   "cell_type": "markdown",
   "id": "f7c17687",
   "metadata": {},
   "source": [
    "# 5. Write a Python Program for cube sum of first n natural numbers?"
   ]
  },
  {
   "cell_type": "code",
   "execution_count": 88,
   "id": "0e66aa16",
   "metadata": {},
   "outputs": [
    {
     "name": "stdout",
     "output_type": "stream",
     "text": [
      "Enter the Number of Natural Numbers: 4\n",
      "Cube sum of first 4 natural number is 100\n"
     ]
    }
   ],
   "source": [
    "def sumOfNaturalNumber(n):\n",
    "    sum = 0\n",
    "    for i in range(1,n+1):\n",
    "        sum = sum + i**3\n",
    "        \n",
    "    print(f\"Cube sum of first {n} natural number is {sum}\")\n",
    "    \n",
    "rang = int(input(\"Enter the Number of Natural Numbers: \"))\n",
    "sumOfNaturalNumber(rang)"
   ]
  },
  {
   "cell_type": "code",
   "execution_count": null,
   "id": "de426772",
   "metadata": {},
   "outputs": [],
   "source": []
  }
 ],
 "metadata": {
  "kernelspec": {
   "display_name": "Python 3 (ipykernel)",
   "language": "python",
   "name": "python3"
  },
  "language_info": {
   "codemirror_mode": {
    "name": "ipython",
    "version": 3
   },
   "file_extension": ".py",
   "mimetype": "text/x-python",
   "name": "python",
   "nbconvert_exporter": "python",
   "pygments_lexer": "ipython3",
   "version": "3.9.7"
  }
 },
 "nbformat": 4,
 "nbformat_minor": 5
}
