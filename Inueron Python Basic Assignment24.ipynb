{
 "cells": [
  {
   "cell_type": "markdown",
   "id": "87de9c8a",
   "metadata": {},
   "source": [
    "# Question1\n",
    "Create a function that takes an integer and returns a list from 1 to the given number, where:\n",
    "If the number can be divided evenly by 4, amplify it by 10 (i.e. return 10 times the number).\n",
    "If the number cannot be divided evenly by 4, simply return the number.\n",
    "Examples\n",
    "amplify(4) ➞ [1, 2, 3, 40]\n",
    "\n",
    "amplify(3) ➞ [1, 2, 3]\n",
    "\n",
    "amplify(25) ➞ [1, 2, 3, 40, 5, 6, 7, 80, 9, 10, 11, 120, 13, 14, 15, 160, 17, 18, 19, 200, 21, 22, 23, 240, 25]\n",
    "\n",
    "Notes\n",
    "• The given integer will always be equal to or greater than 1.\n",
    "\n",
    "• Include the number (see example above).\n",
    "\n",
    "• To perform this problem with its intended purpose, try doing it with list comprehensions. If that's too difficult, just solve the challenge any way you can."
   ]
  },
  {
   "cell_type": "code",
   "execution_count": 82,
   "id": "cda38cfb",
   "metadata": {},
   "outputs": [
    {
     "name": "stdout",
     "output_type": "stream",
     "text": [
      "amplify(4) -> [1, 2, 3, 40]\n",
      "amplify(3) -> [1, 2, 3]\n",
      "amplify(25) -> [1, 2, 3, 40, 5, 6, 7, 80, 9, 10, 11, 120, 13, 14, 15, 160, 17, 18, 19, 200, 21, 22, 23, 240, 25]\n"
     ]
    }
   ],
   "source": [
    "def amplify(num):\n",
    "    num_list = []\n",
    "    for i in range(1,num+1):\n",
    "        if(i % 4 == 0):\n",
    "            num_list.append(i*10)\n",
    "        else:\n",
    "            num_list.append(i)\n",
    "        \n",
    "    print(f\"amplify({num}) -> {num_list}\")\n",
    "        \n",
    "        \n",
    "amplify(4)\n",
    "amplify(3)\n",
    "amplify(25)"
   ]
  },
  {
   "cell_type": "markdown",
   "id": "a6f3cf74",
   "metadata": {},
   "source": [
    "Question2\n",
    "Create a function that takes a list of numbers and return the number that's unique.\n",
    "Examples\n",
    "unique([3, 3, 3, 7, 3, 3]) ➞ 7\n",
    "\n",
    "unique([0, 0, 0.77, 0, 0]) ➞ 0.77\n",
    "\n",
    "unique([0, 1, 1, 1, 1, 1, 1, 1]) ➞ 0\n",
    "\n",
    "Notes\n",
    "Test cases will always have exactly one unique number while all others are the same"
   ]
  },
  {
   "cell_type": "code",
   "execution_count": 83,
   "id": "f192b2bc",
   "metadata": {},
   "outputs": [
    {
     "name": "stdout",
     "output_type": "stream",
     "text": [
      "unique([3, 3, 3, 7, 3, 3]) -> 7\n",
      "unique([0, 0, 0.77, 0, 0]) -> 0.77\n",
      "unique([0, 1, 1, 1, 1, 1, 1, 1]) -> 0\n"
     ]
    }
   ],
   "source": [
    "def unique(lst):\n",
    "    for i in lst:\n",
    "        if lst.count(i) == 1:\n",
    "            print(f\"unique({lst}) -> {i}\")\n",
    "            \n",
    "            \n",
    "unique([3, 3, 3, 7, 3, 3])\n",
    "unique([0, 0, 0.77, 0, 0])\n",
    "unique([0, 1, 1, 1, 1, 1, 1, 1])"
   ]
  },
  {
   "cell_type": "markdown",
   "id": "bf785532",
   "metadata": {},
   "source": [
    "Question3\n",
    "Your task is to create a Circle constructor that creates a circle with a radius provided by an argument. The circles constructed must have two getters getArea() (PIr^2) and getPerimeter() (2PI*r) which give both respective areas and perimeter (circumference).\n",
    "For help with this class, I have provided you with a Rectangle constructor which you can use as a base example.\n",
    "\n",
    "Examples\n",
    "circy = Circle(11) circy.getArea()\n",
    "\n",
    "# Should return 380.132711084365\n",
    "\n",
    "circy = Circle(4.44) circy.getPerimeter()\n",
    "\n",
    "# Should return 27.897342763877365\n",
    "\n",
    "Notes\n",
    "Round results up to the nearest integer"
   ]
  },
  {
   "cell_type": "code",
   "execution_count": 84,
   "id": "7dbd800d",
   "metadata": {},
   "outputs": [],
   "source": [
    "import math\n",
    "\n",
    "class Circle:\n",
    "    \n",
    "    def __init__(self,radius):\n",
    "        self.radius = radius\n",
    "        \n",
    "    def getArea(self):\n",
    "        return round(math.pi * self.radius * self.radius)\n",
    "    \n",
    "    def getPerimeter(self):\n",
    "        return round(2 * math.pi * self.radius)\n",
    "    "
   ]
  },
  {
   "cell_type": "code",
   "execution_count": 85,
   "id": "1a5b94e2",
   "metadata": {},
   "outputs": [
    {
     "data": {
      "text/plain": [
       "380"
      ]
     },
     "execution_count": 85,
     "metadata": {},
     "output_type": "execute_result"
    }
   ],
   "source": [
    "circy = Circle(11)\n",
    "circy.getArea()"
   ]
  },
  {
   "cell_type": "code",
   "execution_count": 86,
   "id": "6d657020",
   "metadata": {},
   "outputs": [
    {
     "data": {
      "text/plain": [
       "28"
      ]
     },
     "execution_count": 86,
     "metadata": {},
     "output_type": "execute_result"
    }
   ],
   "source": [
    "circy = Circle(4.44)\n",
    "circy.getPerimeter()"
   ]
  },
  {
   "cell_type": "markdown",
   "id": "26c3451d",
   "metadata": {},
   "source": [
    "Question4\n",
    "Create a function that takes a list of strings and return a list, sorted from shortest to longest.\n",
    "Examples\n",
    "sort_by_length([\"Google\", \"Apple\", \"Microsoft\"]) ➞ [\"Apple\", \"Google\", \"Microsoft\"]\n",
    "\n",
    "sort_by_length([\"Leonardo\", \"Michelangelo\", \"Raphael\", \"Donatello\"]) ➞ [\"Raphael\", \"Leonardo\", \"Donatello\", \"Michelangelo\"]\n",
    "\n",
    "sort_by_length([\"Turing\", \"Einstein\", \"Jung\"]) ➞ [\"Jung\", \"Turing\", \"Einstein\"]\n",
    "\n",
    "Notes\n",
    "All test cases contain lists with strings of different lengths, so you won't have to deal with multiple strings of the same length."
   ]
  },
  {
   "cell_type": "code",
   "execution_count": 87,
   "id": "ee40a5ce",
   "metadata": {},
   "outputs": [
    {
     "name": "stdout",
     "output_type": "stream",
     "text": [
      "['Apple', 'Google', 'Microsoft']\n",
      "['Raphael', 'Leonardo', 'Donatello', 'Michelangelo']\n",
      "['Jung', 'Turing', 'Einstein']\n"
     ]
    }
   ],
   "source": [
    "def sort_by_length(lst):\n",
    "    for i in range(len(lst)-1): # this loop will execute (len(list) - 1) times\n",
    "        \n",
    "        for j in range(len(lst) -i -1): # this loop will execute for comparision\n",
    "            \n",
    "            if len(lst[j]) > len(lst[j+1]):\n",
    "                temp = lst[j]\n",
    "                lst[j] = lst[j+1]\n",
    "                lst[j+1] = temp\n",
    "            \n",
    "    print(lst)\n",
    "    \n",
    "sort_by_length([\"Google\", \"Apple\", \"Microsoft\"])\n",
    "sort_by_length([\"Leonardo\", \"Michelangelo\", \"Raphael\", \"Donatello\"])\n",
    "sort_by_length([\"Turing\", \"Einstein\", \"Jung\"])"
   ]
  },
  {
   "cell_type": "markdown",
   "id": "79b5d2ee",
   "metadata": {},
   "source": [
    "Question5\n",
    "Create a function that validates whether three given integers form a Pythagorean triplet. The sum of the squares of the two smallest integers must equal the square of the largest number to be validated.\n",
    "Examples\n",
    "is_triplet(3, 4, 5) ➞ True # 3² + 4² = 25 # 5² = 25\n",
    "\n",
    "is_triplet(13, 5, 12) ➞ True # 5² + 12² = 169 # 13² = 169\n",
    "\n",
    "is_triplet(1, 2, 3) ➞ False # 1² + 2² = 5 # 3² = 9\n",
    "\n",
    "Notes\n",
    "Numbers may not be given in a sorted order."
   ]
  },
  {
   "cell_type": "code",
   "execution_count": 88,
   "id": "74cf1e39",
   "metadata": {},
   "outputs": [],
   "source": [
    "def is_triple(side1,side2,side3):\n",
    "    side_lst = []\n",
    "    side_lst.extend((side1,side2,side3))\n",
    "    side_lst = sorted(side_lst)\n",
    "    \n",
    "    if side_lst[0] ** 2 + side_lst[1] ** 2 == side_lst[2] ** 2:\n",
    "        print(f\"These {side1},{side2},{side3} numbers form Pythagorean triplet\")\n",
    "    else:\n",
    "        print(f\"These {side1},{side2},{side3} numbers can not form Pythagorean triplet\")"
   ]
  },
  {
   "cell_type": "code",
   "execution_count": 89,
   "id": "0d868a81",
   "metadata": {},
   "outputs": [
    {
     "name": "stdout",
     "output_type": "stream",
     "text": [
      "These 3,4,5 numbers form Pythagorean triplet\n"
     ]
    }
   ],
   "source": [
    "is_triple(3,4,5)"
   ]
  },
  {
   "cell_type": "code",
   "execution_count": 90,
   "id": "6d93dc29",
   "metadata": {},
   "outputs": [
    {
     "name": "stdout",
     "output_type": "stream",
     "text": [
      "These 13,5,12 numbers form Pythagorean triplet\n"
     ]
    }
   ],
   "source": [
    "is_triple(13, 5, 12)"
   ]
  },
  {
   "cell_type": "code",
   "execution_count": 91,
   "id": "6c9a8a0f",
   "metadata": {},
   "outputs": [
    {
     "name": "stdout",
     "output_type": "stream",
     "text": [
      "These 1,2,3 numbers can not form Pythagorean triplet\n"
     ]
    }
   ],
   "source": [
    "is_triple(1, 2, 3)"
   ]
  },
  {
   "cell_type": "code",
   "execution_count": null,
   "id": "b05fb2f0",
   "metadata": {},
   "outputs": [],
   "source": []
  }
 ],
 "metadata": {
  "kernelspec": {
   "display_name": "Python 3 (ipykernel)",
   "language": "python",
   "name": "python3"
  },
  "language_info": {
   "codemirror_mode": {
    "name": "ipython",
    "version": 3
   },
   "file_extension": ".py",
   "mimetype": "text/x-python",
   "name": "python",
   "nbconvert_exporter": "python",
   "pygments_lexer": "ipython3",
   "version": "3.9.7"
  }
 },
 "nbformat": 4,
 "nbformat_minor": 5
}
