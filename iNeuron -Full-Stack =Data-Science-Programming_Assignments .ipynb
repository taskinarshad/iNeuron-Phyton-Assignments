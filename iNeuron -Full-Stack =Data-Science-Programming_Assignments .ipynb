{
 "cells": [
  {
   "cell_type": "markdown",
   "id": "9b46883d",
   "metadata": {},
   "source": [
    "# Programming Assignment_01\n"
   ]
  },
  {
   "cell_type": "markdown",
   "id": "b90448d5",
   "metadata": {},
   "source": [
    "Q 1.Write a Python program to print 'Hello Python' ?\n",
    "\n"
   ]
  },
  {
   "cell_type": "code",
   "execution_count": 10,
   "id": "d24b3dd9",
   "metadata": {},
   "outputs": [
    {
     "name": "stdout",
     "output_type": "stream",
     "text": [
      "Hello Python\n"
     ]
    }
   ],
   "source": [
    "#Ans:-\n",
    "print('Hello Python') "
   ]
  },
  {
   "cell_type": "markdown",
   "id": "efe44538",
   "metadata": {},
   "source": [
    "Q 2.Write a Python program to do arithmetic operations addition and division ?"
   ]
  },
  {
   "cell_type": "code",
   "execution_count": 11,
   "id": "359aa119",
   "metadata": {},
   "outputs": [
    {
     "name": "stdout",
     "output_type": "stream",
     "text": [
      "enter the + or / :-+\n",
      "15\n"
     ]
    }
   ],
   "source": [
    "#ANS:-\n",
    "a = 5\n",
    "b = 10\n",
    "input1=input(\"enter the + or / :-\")\n",
    "if input1==\"+\" :\n",
    "    print(a+b)\n",
    "elif input1 == \"/\":\n",
    "    print(a/b)\n",
    "else:\n",
    "    print(\"please enter the correct input\")\n"
   ]
  },
  {
   "cell_type": "markdown",
   "id": "f28a3ece",
   "metadata": {},
   "source": [
    "Q 3.Write a Python program to find the area of a triangle ?"
   ]
  },
  {
   "cell_type": "code",
   "execution_count": 19,
   "id": "5fa2e97c",
   "metadata": {},
   "outputs": [
    {
     "name": "stdout",
     "output_type": "stream",
     "text": [
      "enter height of triangle100\n",
      "enter base of triangle50\n",
      "area of a triangle 2500.0\n"
     ]
    }
   ],
   "source": [
    "#ANS\n",
    "Height=int(input(\"enter height of triangle\"))\n",
    "Base = int(input(\"enter base of triangle\"))\n",
    "Area = Height * Base/2\n",
    "print(\"area of a triangle\",Area)"
   ]
  },
  {
   "cell_type": "markdown",
   "id": "eb607e13",
   "metadata": {},
   "source": [
    "Q 4.Write a Python program to swap two variables ?\n"
   ]
  },
  {
   "cell_type": "code",
   "execution_count": 20,
   "id": "50a8ef6f",
   "metadata": {},
   "outputs": [
    {
     "name": "stdout",
     "output_type": "stream",
     "text": [
      "enter the first no50\n",
      "enter the second no100\n",
      "before swap 50 100\n",
      "after swap 100 50\n"
     ]
    }
   ],
   "source": [
    "#ANS\n",
    "first_no = int(input(\"enter the first no\"))\n",
    "second_no = int(input(\"enter the second no\"))\n",
    "print('before swap' , first_no , second_no)\n",
    "\n",
    "first_no,second_no = second_no , first_no\n",
    "print('after swap', first_no,second_no)"
   ]
  },
  {
   "cell_type": "markdown",
   "id": "062b6dc9",
   "metadata": {},
   "source": [
    "Q 5.Write a Python program to generate a random number ?\n"
   ]
  },
  {
   "cell_type": "code",
   "execution_count": 21,
   "id": "07c6b753",
   "metadata": {},
   "outputs": [],
   "source": [
    "#ANS\n",
    "from random import randint"
   ]
  },
  {
   "cell_type": "code",
   "execution_count": 22,
   "id": "3dcd4cf7",
   "metadata": {},
   "outputs": [
    {
     "name": "stdout",
     "output_type": "stream",
     "text": [
      "40\n"
     ]
    }
   ],
   "source": [
    "print(randint(0,100))"
   ]
  },
  {
   "cell_type": "code",
   "execution_count": null,
   "id": "4814744d",
   "metadata": {},
   "outputs": [],
   "source": []
  }
 ],
 "metadata": {
  "kernelspec": {
   "display_name": "Python 3 (ipykernel)",
   "language": "python",
   "name": "python3"
  },
  "language_info": {
   "codemirror_mode": {
    "name": "ipython",
    "version": 3
   },
   "file_extension": ".py",
   "mimetype": "text/x-python",
   "name": "python",
   "nbconvert_exporter": "python",
   "pygments_lexer": "ipython3",
   "version": "3.9.7"
  }
 },
 "nbformat": 4,
 "nbformat_minor": 5
}
