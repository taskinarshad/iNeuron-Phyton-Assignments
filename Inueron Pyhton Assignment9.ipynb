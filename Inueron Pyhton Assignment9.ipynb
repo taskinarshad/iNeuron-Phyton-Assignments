{
 "cells": [
  {
   "cell_type": "markdown",
   "id": "3a591dbb",
   "metadata": {},
   "source": [
    "# 1. Write a Python program to check if the given number is a Disarium Number?"
   ]
  },
  {
   "cell_type": "code",
   "execution_count": 1,
   "id": "8a8b4403",
   "metadata": {},
   "outputs": [],
   "source": [
    "def disariumNumb(num):\n",
    "    str_num = str(num)\n",
    "    sum = 0\n",
    "    for a,i in enumerate(str_num):\n",
    "        sum = sum + int(i) ** (a+1)\n",
    "    if num == sum:\n",
    "        print(f\"{num} is Disarium Number\")\n",
    "    else:\n",
    "        print(f\"{num} is not Disarium Number\")"
   ]
  },
  {
   "cell_type": "code",
   "execution_count": 2,
   "id": "4ca14b28",
   "metadata": {},
   "outputs": [
    {
     "name": "stdout",
     "output_type": "stream",
     "text": [
      "175 is Disarium Number\n"
     ]
    }
   ],
   "source": [
    "disariumNumb(175)"
   ]
  },
  {
   "cell_type": "markdown",
   "id": "7c321a75",
   "metadata": {},
   "source": [
    "# 2. Write a Python program to print all disarium numbers between 1 to 100?"
   ]
  },
  {
   "cell_type": "code",
   "execution_count": 3,
   "id": "aab4e0fd",
   "metadata": {},
   "outputs": [],
   "source": [
    "def rangeDisariumNumb(numb):\n",
    "    print(f\"Disarium Number in range 1 to {numb}: \")\n",
    "    for i in range(1,numb):\n",
    "        str_num = str(i)\n",
    "        sum = 0\n",
    "        for a,b in enumerate(str_num):\n",
    "            sum = sum + int(b) ** (a+1)\n",
    "            \n",
    "        if i == sum:\n",
    "            print(i,end=\" \")\n",
    "                        "
   ]
  },
  {
   "cell_type": "code",
   "execution_count": 4,
   "id": "450080cf",
   "metadata": {},
   "outputs": [
    {
     "name": "stdout",
     "output_type": "stream",
     "text": [
      "Disarium Number in range 1 to 100: \n",
      "1 2 3 4 5 6 7 8 9 89 "
     ]
    }
   ],
   "source": [
    "rangeDisariumNumb(100)"
   ]
  },
  {
   "cell_type": "markdown",
   "id": "a3740198",
   "metadata": {},
   "source": [
    "# 3. Write a Python program to check if the given number is Happy Number?"
   ]
  },
  {
   "cell_type": "code",
   "execution_count": 6,
   "id": "539e1d0a",
   "metadata": {},
   "outputs": [
    {
     "name": "stdout",
     "output_type": "stream",
     "text": [
      "Enter The Number: 10\n",
      "1\n",
      "10 is a Happy Number\n"
     ]
    }
   ],
   "source": [
    "# numsquareSum() method will determine whether the number is happy or not\n",
    "def numsquareSum(numb):\n",
    "    sum = 0\n",
    "    #Calculates the sum of squares of digits\n",
    "    while(numb>0):\n",
    "        rem = numb % 10\n",
    "        sum= sum + (rem * rem)\n",
    "        numb = numb // 10\n",
    "    \n",
    "    return sum\n",
    "\n",
    "\n",
    "numb = int(input(\"Enter The Number: \"))\n",
    "result = numb\n",
    "\n",
    "while(result!=1 and result!=4):\n",
    "    result = numsquareSum(result)\n",
    "    print(result)\n",
    "\n",
    "# Happy number always end with 1    \n",
    "if(result == 1):\n",
    "    print(f\"{numb} is a Happy Number\")\n",
    "#Unhappy number ends in a cycle of repeating numbers which contain 4  \n",
    "elif(result == 4):\n",
    "    print(f\"{numb} is not a Happy Number\")"
   ]
  },
  {
   "cell_type": "markdown",
   "id": "b4aa3751",
   "metadata": {},
   "source": [
    "# 4. Write a Python program to print all happy numbers between 1 and 100?"
   ]
  },
  {
   "cell_type": "code",
   "execution_count": 7,
   "id": "7f413b0e",
   "metadata": {},
   "outputs": [
    {
     "name": "stdout",
     "output_type": "stream",
     "text": [
      "The Happy Number between 1 and 100 is: \n",
      "\n",
      "1 7 10 13 19 23 28 31 32 44 49 68 70 79 82 86 91 94 97 100 "
     ]
    }
   ],
   "source": [
    "def happyNumCheck(numb):\n",
    "    sum = 0\n",
    "    while(numb>0):\n",
    "        rem = numb % 10\n",
    "        sum = sum + (rem * rem)\n",
    "        numb = numb // 10\n",
    "    \n",
    "    return sum\n",
    "    \n",
    "\n",
    "print(\"The Happy Number between 1 and 100 is: \\n\")\n",
    "for i in range(1,101):\n",
    "    result = i\n",
    "    while(result!=1 and result!=4):\n",
    "        result = happyNumCheck(result)\n",
    "        \n",
    "    if(result==1):\n",
    "        print(i,end=\" \")\n"
   ]
  },
  {
   "cell_type": "markdown",
   "id": "28e883f9",
   "metadata": {},
   "source": [
    "# 5. Write a Python program to determine whether the given number is a Harshad Number?"
   ]
  },
  {
   "cell_type": "code",
   "execution_count": 8,
   "id": "3ce83b1a",
   "metadata": {},
   "outputs": [
    {
     "name": "stdout",
     "output_type": "stream",
     "text": [
      "Enter The Number145\n",
      "145 is not Harshad Number\n"
     ]
    }
   ],
   "source": [
    "# method to check the number is harshad number or not\n",
    "def harshadNumber(numb):\n",
    "    str_numb = str(numb)\n",
    "    sum = 0\n",
    "    for i in str_numb:\n",
    "        sum = sum + int(i)\n",
    "        \n",
    "    if(numb%sum == 0):\n",
    "        print(f\"{numb} is a Harshad Number\")\n",
    "    else:\n",
    "        print(f\"{numb} is not Harshad Number\")\n",
    "        \n",
    "harshad_num = int(input(\"Enter The Number\"))\n",
    "harshadNumber(harshad_num)"
   ]
  },
  {
   "cell_type": "markdown",
   "id": "c5230631",
   "metadata": {},
   "source": [
    "# 6. Write a Python program to print all pronic numbers between 1 and 100?"
   ]
  },
  {
   "cell_type": "code",
   "execution_count": 9,
   "id": "84fb4e98",
   "metadata": {},
   "outputs": [],
   "source": [
    "def pronicNumber(n):\n",
    "    for i in range(1,100):\n",
    "        pronic_numb = i * (i+1)\n",
    "        if(pronic_numb<100):\n",
    "            print(pronic_numb)\n",
    "        else:\n",
    "            break"
   ]
  },
  {
   "cell_type": "code",
   "execution_count": 10,
   "id": "d5d8fea4",
   "metadata": {},
   "outputs": [
    {
     "name": "stdout",
     "output_type": "stream",
     "text": [
      "Pronic Numbers between 1 and 100 are:\n",
      "2\n",
      "6\n",
      "12\n",
      "20\n",
      "30\n",
      "42\n",
      "56\n",
      "72\n",
      "90\n"
     ]
    }
   ],
   "source": [
    "print(\"Pronic Numbers between 1 and 100 are:\")\n",
    "pronicNumber(10)"
   ]
  },
  {
   "cell_type": "code",
   "execution_count": null,
   "id": "354926df",
   "metadata": {},
   "outputs": [],
   "source": []
  }
 ],
 "metadata": {
  "kernelspec": {
   "display_name": "Python 3 (ipykernel)",
   "language": "python",
   "name": "python3"
  },
  "language_info": {
   "codemirror_mode": {
    "name": "ipython",
    "version": 3
   },
   "file_extension": ".py",
   "mimetype": "text/x-python",
   "name": "python",
   "nbconvert_exporter": "python",
   "pygments_lexer": "ipython3",
   "version": "3.9.7"
  }
 },
 "nbformat": 4,
 "nbformat_minor": 5
}
