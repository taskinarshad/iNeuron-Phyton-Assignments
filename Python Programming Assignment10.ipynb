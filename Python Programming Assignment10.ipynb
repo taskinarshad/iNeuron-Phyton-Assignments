{
 "cells": [
  {
   "cell_type": "markdown",
   "id": "0e47396b",
   "metadata": {},
   "source": [
    "1. Write a Python program to find sum of elements in list?"
   ]
  },
  {
   "cell_type": "code",
   "execution_count": 116,
   "id": "90127a8e",
   "metadata": {},
   "outputs": [
    {
     "name": "stdout",
     "output_type": "stream",
     "text": [
      "21\n"
     ]
    }
   ],
   "source": [
    "l = [1,2,3,4,5,6]\n",
    "sum = 0\n",
    "for i in l:\n",
    "    sum = sum + i\n",
    "    \n",
    "print(sum)"
   ]
  },
  {
   "cell_type": "markdown",
   "id": "c94458c7",
   "metadata": {},
   "source": [
    "2. Write a Python program to Multiply all numbers in the list?"
   ]
  },
  {
   "cell_type": "code",
   "execution_count": 117,
   "id": "d67f041c",
   "metadata": {},
   "outputs": [
    {
     "name": "stdout",
     "output_type": "stream",
     "text": [
      "120\n"
     ]
    }
   ],
   "source": [
    "l = [1,2,3,4,5]\n",
    "mul = 1\n",
    "for i in l:\n",
    "    mul = mul * i\n",
    "    \n",
    "print(mul)"
   ]
  },
  {
   "cell_type": "markdown",
   "id": "a5179598",
   "metadata": {},
   "source": [
    "3. Write a Python program to find smallest number in a list?"
   ]
  },
  {
   "cell_type": "code",
   "execution_count": 118,
   "id": "2b4fa0b5",
   "metadata": {},
   "outputs": [
    {
     "name": "stdout",
     "output_type": "stream",
     "text": [
      "2\n"
     ]
    }
   ],
   "source": [
    "l = [8,5,4,2,9,10]\n",
    "\n",
    "minimum = l[0]\n",
    "for i in range(len(l)):\n",
    "    if l[i]<minimum:\n",
    "        minimum = l[i]\n",
    "        \n",
    "        \n",
    "print(minimum)"
   ]
  },
  {
   "cell_type": "code",
   "execution_count": 119,
   "id": "b8f63e3b",
   "metadata": {},
   "outputs": [
    {
     "data": {
      "text/plain": [
       "2"
      ]
     },
     "execution_count": 119,
     "metadata": {},
     "output_type": "execute_result"
    }
   ],
   "source": [
    "# ALternate way to print minimum value in the list\n",
    "l = [8,5,4,2,9,10]\n",
    "min(l)"
   ]
  },
  {
   "cell_type": "markdown",
   "id": "7647c5f1",
   "metadata": {},
   "source": [
    "4. Write a Python program to find largest number in a list?"
   ]
  },
  {
   "cell_type": "code",
   "execution_count": 120,
   "id": "ace09ee9",
   "metadata": {},
   "outputs": [
    {
     "name": "stdout",
     "output_type": "stream",
     "text": [
      "12\n"
     ]
    }
   ],
   "source": [
    "l = [8,5,4,12,9,10]\n",
    "maximum = 0\n",
    "for i in range(len(l)):\n",
    "    if l[i]>maximum:\n",
    "        maximum = l[i]\n",
    "        \n",
    "print(maximum)"
   ]
  },
  {
   "cell_type": "code",
   "execution_count": 121,
   "id": "441f0c9d",
   "metadata": {},
   "outputs": [
    {
     "data": {
      "text/plain": [
       "12"
      ]
     },
     "execution_count": 121,
     "metadata": {},
     "output_type": "execute_result"
    }
   ],
   "source": [
    "# ALternate way to print maximum value in the list\n",
    "l = [8,5,4,12,9,10]\n",
    "max(l)"
   ]
  },
  {
   "cell_type": "markdown",
   "id": "a62b8831",
   "metadata": {},
   "source": [
    "5. Write a Python program to find second largest number in a list?"
   ]
  },
  {
   "cell_type": "code",
   "execution_count": 122,
   "id": "5e4e43b4",
   "metadata": {},
   "outputs": [
    {
     "name": "stdout",
     "output_type": "stream",
     "text": [
      "10\n"
     ]
    }
   ],
   "source": [
    "# first and easiest way to find second largest number in a list\n",
    "l = [8,5,4,12,9,10]\n",
    "l.sort()\n",
    "print(l[-2])"
   ]
  },
  {
   "cell_type": "code",
   "execution_count": 123,
   "id": "cf7d0f53",
   "metadata": {},
   "outputs": [
    {
     "name": "stdout",
     "output_type": "stream",
     "text": [
      "10\n"
     ]
    }
   ],
   "source": [
    "# second easiest way to find second largest number in a list (ALGORITHM WISE)\n",
    "l = [8,5,4,12,9,10,1,2]\n",
    "for i in range(len(l)):\n",
    "    for j in range(len(l)-1):\n",
    "        if (l[j]>l[j+1]):\n",
    "            temp = l[j]\n",
    "            l[j] = l[j+1]\n",
    "            l[j+1] = temp\n",
    "    \n",
    "    \n",
    "print(l[-2])"
   ]
  },
  {
   "cell_type": "code",
   "execution_count": 124,
   "id": "fb2100d6",
   "metadata": {},
   "outputs": [
    {
     "name": "stdout",
     "output_type": "stream",
     "text": [
      "10\n"
     ]
    }
   ],
   "source": [
    "# third way to find second largest number in a list\n",
    "l = [8,5,4,12,9,10]\n",
    "maximum = 0\n",
    "secondMaximum = 0     \n",
    "        \n",
    "for i in range(len(l)):\n",
    "    if l[i]>maximum:\n",
    "        maximum = l[i]\n",
    "        \n",
    "        \n",
    "for i in range(len(l)):\n",
    "    if(l[i]<maximum):\n",
    "        if l[i]>secondMaximum:\n",
    "            secondMaximum = l[i]\n",
    "            \n",
    "print(secondMaximum)"
   ]
  },
  {
   "cell_type": "markdown",
   "id": "ef6edc7a",
   "metadata": {},
   "source": [
    "6. Write a Python program to find N largest elements from a list?"
   ]
  },
  {
   "cell_type": "code",
   "execution_count": 125,
   "id": "7db923f6",
   "metadata": {},
   "outputs": [
    {
     "name": "stdout",
     "output_type": "stream",
     "text": [
      "List After sorting from minimum to maximum\n",
      "[1, 2, 4, 5, 8, 9, 10, 12]\n",
      "Enter The position of largest element: 3\n",
      "The 3 position large element is 9\n"
     ]
    }
   ],
   "source": [
    "l = [8,5,4,12,9,10,1,2]\n",
    "for i in range(len(l)):\n",
    "    for j in range(len(l)-1):\n",
    "        if (l[j]>l[j+1]):\n",
    "            temp = l[j]\n",
    "            l[j] = l[j+1]\n",
    "            l[j+1] = temp\n",
    "\n",
    "print(\"List After sorting from minimum to maximum\") \n",
    "print(l)\n",
    "            \n",
    "            \n",
    "large_element = int(input(\"Enter The position of largest element: \"))\n",
    "\n",
    "if (large_element > len(l)):\n",
    "    print(\"Enter Valid Number\")\n",
    "else:\n",
    "    print(f\"The {large_element} position large element is {l[-large_element]}\")\n"
   ]
  },
  {
   "cell_type": "markdown",
   "id": "cb5b4671",
   "metadata": {},
   "source": [
    "7. Write a Python program to print even numbers in a list?"
   ]
  },
  {
   "cell_type": "code",
   "execution_count": 126,
   "id": "23ffbb6b",
   "metadata": {},
   "outputs": [
    {
     "name": "stdout",
     "output_type": "stream",
     "text": [
      "8 4 12 10 2 "
     ]
    }
   ],
   "source": [
    "l = [8,5,4,12,9,10,1,2]\n",
    "\n",
    "for i in l:\n",
    "    if (i % 2 == 0):\n",
    "        print(i, end=\" \")"
   ]
  },
  {
   "cell_type": "markdown",
   "id": "ad5e4f1f",
   "metadata": {},
   "source": [
    "8. Write a Python program to print odd numbers in a List?"
   ]
  },
  {
   "cell_type": "code",
   "execution_count": 127,
   "id": "8647fe8b",
   "metadata": {},
   "outputs": [
    {
     "name": "stdout",
     "output_type": "stream",
     "text": [
      "5 9 1 "
     ]
    }
   ],
   "source": [
    "l = [8,5,4,12,9,10,1,2]\n",
    "\n",
    "for i in l:\n",
    "    if (i % 2 == 1):\n",
    "        print(i, end=\" \")"
   ]
  },
  {
   "cell_type": "markdown",
   "id": "3d0ad78e",
   "metadata": {},
   "source": [
    "9. Write a Python program to Remove empty List from List?"
   ]
  },
  {
   "cell_type": "code",
   "execution_count": 128,
   "id": "dde00fed",
   "metadata": {},
   "outputs": [
    {
     "name": "stdout",
     "output_type": "stream",
     "text": [
      "[[1, 2, 3, 4], 55, 21, 2, 4, 5, 6, [55, 89, 75]]\n"
     ]
    }
   ],
   "source": [
    "l = [[1,2,3,4],55,21,2,[],4,5,6,[],[55,89,75]]\n",
    "for i in l:\n",
    "    if i == []:\n",
    "        l.remove(i)\n",
    "            \n",
    "print(l)"
   ]
  },
  {
   "cell_type": "markdown",
   "id": "2f65a5e3",
   "metadata": {},
   "source": [
    "10. Write a Python program to Cloning or Copying a list?"
   ]
  },
  {
   "cell_type": "code",
   "execution_count": 129,
   "id": "59cfbd55",
   "metadata": {},
   "outputs": [
    {
     "name": "stdout",
     "output_type": "stream",
     "text": [
      "[1, 2, 3, 4, 5]\n"
     ]
    }
   ],
   "source": [
    "l = [1,2,3,4,5]\n",
    "l_copy = []\n",
    "for i in l:\n",
    "    l_copy.append(i)\n",
    "    \n",
    "print(l_copy)"
   ]
  },
  {
   "cell_type": "code",
   "execution_count": 130,
   "id": "ad71ac11",
   "metadata": {},
   "outputs": [
    {
     "name": "stdout",
     "output_type": "stream",
     "text": [
      "[1, 2, 3, 4, 5]\n"
     ]
    }
   ],
   "source": [
    "# Alternate way\n",
    "l = [1,2,3,4,5]\n",
    "l_cop = l.copy()\n",
    "print(l_cop)"
   ]
  },
  {
   "cell_type": "markdown",
   "id": "ce9b88f0",
   "metadata": {},
   "source": [
    "11. Write a Python program to Count occurrences of an element in a list?"
   ]
  },
  {
   "cell_type": "code",
   "execution_count": 131,
   "id": "cd226c69",
   "metadata": {},
   "outputs": [
    {
     "name": "stdout",
     "output_type": "stream",
     "text": [
      "1 --> 1\n",
      "2 --> 2\n",
      "3 --> 3\n",
      "4 --> 2\n",
      "5 --> 1\n",
      "2 has occured 2 times in the list\n"
     ]
    }
   ],
   "source": [
    "l = [1,2,2,3,3,3,4,4,5]\n",
    "occurance = 0\n",
    "for i in set(l):\n",
    "    print(f\"{i} --> {l.count(i)}\")\n",
    "    \n",
    "print(f\"{2} has occured {l.count(2)} times in the list\")"
   ]
  },
  {
   "cell_type": "code",
   "execution_count": null,
   "id": "134dd468",
   "metadata": {},
   "outputs": [],
   "source": []
  }
 ],
 "metadata": {
  "kernelspec": {
   "display_name": "Python 3 (ipykernel)",
   "language": "python",
   "name": "python3"
  },
  "language_info": {
   "codemirror_mode": {
    "name": "ipython",
    "version": 3
   },
   "file_extension": ".py",
   "mimetype": "text/x-python",
   "name": "python",
   "nbconvert_exporter": "python",
   "pygments_lexer": "ipython3",
   "version": "3.9.7"
  }
 },
 "nbformat": 4,
 "nbformat_minor": 5
}
