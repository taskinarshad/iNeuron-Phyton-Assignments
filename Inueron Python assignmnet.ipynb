{
 "cells": [
  {
   "cell_type": "markdown",
   "id": "251bdec6",
   "metadata": {},
   "source": [
    "# Basic_Programming_Assignment_4 Solutions :-"
   ]
  },
  {
   "cell_type": "markdown",
   "id": "f09cbf94",
   "metadata": {},
   "source": [
    "# Q.1) Write a Python Program to Find the Factorial of a Number?"
   ]
  },
  {
   "cell_type": "code",
   "execution_count": 1,
   "id": "ebc80b50",
   "metadata": {},
   "outputs": [
    {
     "name": "stdout",
     "output_type": "stream",
     "text": [
      "Enter the no:5\n",
      "Factorial = 120\n"
     ]
    }
   ],
   "source": [
    "i = int(input('Enter the no:'))\n",
    "fac = 1\n",
    "while (i>0):\n",
    "    fac = fac*i\n",
    "    i=i-1\n",
    "print(\"Factorial =\",fac)"
   ]
  },
  {
   "cell_type": "markdown",
   "id": "3c879b34",
   "metadata": {},
   "source": [
    "# 2) Write a Python Program to Display the multiplication Table?"
   ]
  },
  {
   "cell_type": "code",
   "execution_count": 2,
   "id": "f33c161a",
   "metadata": {},
   "outputs": [
    {
     "name": "stdout",
     "output_type": "stream",
     "text": [
      "Display multiplication table of?6\n",
      "6 X 1 = 6\n",
      "6 X 2 = 12\n",
      "6 X 3 = 18\n",
      "6 X 4 = 24\n",
      "6 X 5 = 30\n",
      "6 X 6 = 36\n",
      "6 X 7 = 42\n",
      "6 X 8 = 48\n",
      "6 X 9 = 54\n",
      "6 X 10 = 60\n"
     ]
    }
   ],
   "source": [
    "def GenerateTable(num):\n",
    "    for i in range(1,11):\n",
    "        print(f'{num} X {i} = {num*i}')\n",
    "              \n",
    "num= int(input('Display multiplication table of?'))\n",
    "GenerateTable(num)"
   ]
  },
  {
   "cell_type": "markdown",
   "id": "40aecacc",
   "metadata": {},
   "source": [
    "# 3) Write a Python Program to Print the Fibonacci sequence?"
   ]
  },
  {
   "cell_type": "code",
   "execution_count": 3,
   "id": "7da0142c",
   "metadata": {},
   "outputs": [
    {
     "name": "stdout",
     "output_type": "stream",
     "text": [
      "Enter the no:8\n",
      "0\n",
      "1\n",
      "1\n",
      "2\n",
      "3\n",
      "5\n",
      "8\n"
     ]
    }
   ],
   "source": [
    "n = int(input('Enter the no:'))\n",
    "x = 0\n",
    "y = 1\n",
    "z = 0\n",
    "while (z<=n):\n",
    "    print(z)\n",
    "    x =y\n",
    "    y =z\n",
    "    z = x+y"
   ]
  },
  {
   "cell_type": "markdown",
   "id": "fc03e498",
   "metadata": {},
   "source": [
    "# Q4. Write a Python Program to Check Armstrong Number?"
   ]
  },
  {
   "cell_type": "code",
   "execution_count": 4,
   "id": "89c1fa4f",
   "metadata": {},
   "outputs": [
    {
     "name": "stdout",
     "output_type": "stream",
     "text": [
      "Enter the number: 545\n",
      "545 is not an Armstrong number\n"
     ]
    }
   ],
   "source": [
    "num = int(input(\"Enter the number: \"))\n",
    "\n",
    "# changed num variable is string\n",
    "# and calculate the length (number of digits)\n",
    "\n",
    "order = len(str(num))\n",
    "\n",
    "# initialized num\n",
    "sum = 0\n",
    "\n",
    "# find the sum of the cube  of each digit\n",
    "\n",
    "temp = num\n",
    "while temp > 0:\n",
    "    digit = temp % 10\n",
    "    sum += digit ** order \n",
    "    temp //= 10\n",
    "\n",
    "# display the result\n",
    "if num == sum:\n",
    "    print(num, \"is an Armstrong number\")\n",
    "else:\n",
    "    print(num, \"is not an Armstrong number\")"
   ]
  },
  {
   "cell_type": "markdown",
   "id": "c619049d",
   "metadata": {},
   "source": [
    "# Q5. Write a Python Program to Find Armstrong Number in an Interval?"
   ]
  },
  {
   "cell_type": "code",
   "execution_count": 5,
   "id": "27b2e831",
   "metadata": {},
   "outputs": [
    {
     "name": "stdout",
     "output_type": "stream",
     "text": [
      "153\n",
      "370\n",
      "371\n",
      "407\n",
      "1634\n"
     ]
    }
   ],
   "source": [
    "lower = 100\n",
    "upper = 2000\n",
    "\n",
    "for num in range(lower, upper +1):\n",
    "\n",
    "    # order of number\n",
    "    order = len(str(num))\n",
    "\n",
    "\n",
    "    # initialized sum\n",
    "    sum = 0\n",
    "\n",
    "    temp = num\n",
    "    while temp > 0:\n",
    "        digit = temp % 10\n",
    "        sum += digit ** order\n",
    "        temp //=10\n",
    "\n",
    "\n",
    "    if num == sum:\n",
    "        print(num)"
   ]
  },
  {
   "cell_type": "markdown",
   "id": "f0a864e3",
   "metadata": {},
   "source": [
    "# Q6. Write a Python Program to Find the Sum of Natural Numbers?"
   ]
  },
  {
   "cell_type": "code",
   "execution_count": 6,
   "id": "169a1a7a",
   "metadata": {},
   "outputs": [
    {
     "name": "stdout",
     "output_type": "stream",
     "text": [
      "Enter the number: 56\n",
      "The sum is 1596\n"
     ]
    }
   ],
   "source": [
    "num = int(input(\"Enter the number: \"))\n",
    "\n",
    "if num < 0:\n",
    "    print(\"Enter a positive number\")\n",
    "\n",
    "else:\n",
    "    sum = 0\n",
    "    # While loop to iterate un till zero\n",
    "\n",
    "    while(num >0):\n",
    "        sum += num\n",
    "        num -= 1\n",
    "    print(\"The sum is\", sum)"
   ]
  },
  {
   "cell_type": "code",
   "execution_count": null,
   "id": "b1a9a279",
   "metadata": {},
   "outputs": [],
   "source": []
  }
 ],
 "metadata": {
  "kernelspec": {
   "display_name": "Python 3 (ipykernel)",
   "language": "python",
   "name": "python3"
  },
  "language_info": {
   "codemirror_mode": {
    "name": "ipython",
    "version": 3
   },
   "file_extension": ".py",
   "mimetype": "text/x-python",
   "name": "python",
   "nbconvert_exporter": "python",
   "pygments_lexer": "ipython3",
   "version": "3.9.7"
  }
 },
 "nbformat": 4,
 "nbformat_minor": 5
}
