{
 "cells": [
  {
   "cell_type": "markdown",
   "id": "7e955bd9",
   "metadata": {},
   "source": [
    "# 02.Programming Assignment_02\n"
   ]
  },
  {
   "cell_type": "markdown",
   "id": "05cae082",
   "metadata": {},
   "source": [
    "Q 1.Write a Python program to convert Kilometers to Miles ?"
   ]
  },
  {
   "cell_type": "code",
   "execution_count": 26,
   "id": "9078c110",
   "metadata": {},
   "outputs": [
    {
     "name": "stdout",
     "output_type": "stream",
     "text": [
      "enter the input kilometer :-1\n",
      "miles : 0.621327\n"
     ]
    }
   ],
   "source": [
    "kilometer = int(input('enter the input kilometer :-'))\n",
    "miles = kilometer * 0.621327  # 1 km = o.621327 miles\n",
    "print('miles :',miles)"
   ]
  },
  {
   "cell_type": "markdown",
   "id": "f5d96196",
   "metadata": {},
   "source": [
    "Q 2.Write a Python program to convert Celsius to Farenheit ?"
   ]
  },
  {
   "cell_type": "code",
   "execution_count": 30,
   "id": "aef02856",
   "metadata": {},
   "outputs": [
    {
     "name": "stdout",
     "output_type": "stream",
     "text": [
      "enter the Celsius :2\n",
      "Celsius to Farenheut 35.6\n"
     ]
    }
   ],
   "source": [
    "Celsius = int(input('enter the Celsius :'))\n",
    "Farenheit = (Celsius * 1.8) + 32\n",
    "print ('Celsius to Farenheut'.format(Celsius),Farenheit)"
   ]
  },
  {
   "cell_type": "markdown",
   "id": "7764a92d",
   "metadata": {},
   "source": [
    "Q 3.Write a Python program to display calender ?"
   ]
  },
  {
   "cell_type": "code",
   "execution_count": 46,
   "id": "30881a0a",
   "metadata": {},
   "outputs": [
    {
     "name": "stdout",
     "output_type": "stream",
     "text": [
      "enter calender year :2022\n",
      "                                  2022\n",
      "\n",
      "      January                   February                   March\n",
      "Mo Tu We Th Fr Sa Su      Mo Tu We Th Fr Sa Su      Mo Tu We Th Fr Sa Su\n",
      "                1  2          1  2  3  4  5  6          1  2  3  4  5  6\n",
      " 3  4  5  6  7  8  9       7  8  9 10 11 12 13       7  8  9 10 11 12 13\n",
      "10 11 12 13 14 15 16      14 15 16 17 18 19 20      14 15 16 17 18 19 20\n",
      "17 18 19 20 21 22 23      21 22 23 24 25 26 27      21 22 23 24 25 26 27\n",
      "24 25 26 27 28 29 30      28                        28 29 30 31\n",
      "31\n",
      "\n",
      "       April                      May                       June\n",
      "Mo Tu We Th Fr Sa Su      Mo Tu We Th Fr Sa Su      Mo Tu We Th Fr Sa Su\n",
      "             1  2  3                         1             1  2  3  4  5\n",
      " 4  5  6  7  8  9 10       2  3  4  5  6  7  8       6  7  8  9 10 11 12\n",
      "11 12 13 14 15 16 17       9 10 11 12 13 14 15      13 14 15 16 17 18 19\n",
      "18 19 20 21 22 23 24      16 17 18 19 20 21 22      20 21 22 23 24 25 26\n",
      "25 26 27 28 29 30         23 24 25 26 27 28 29      27 28 29 30\n",
      "                          30 31\n",
      "\n",
      "        July                     August                  September\n",
      "Mo Tu We Th Fr Sa Su      Mo Tu We Th Fr Sa Su      Mo Tu We Th Fr Sa Su\n",
      "             1  2  3       1  2  3  4  5  6  7                1  2  3  4\n",
      " 4  5  6  7  8  9 10       8  9 10 11 12 13 14       5  6  7  8  9 10 11\n",
      "11 12 13 14 15 16 17      15 16 17 18 19 20 21      12 13 14 15 16 17 18\n",
      "18 19 20 21 22 23 24      22 23 24 25 26 27 28      19 20 21 22 23 24 25\n",
      "25 26 27 28 29 30 31      29 30 31                  26 27 28 29 30\n",
      "\n",
      "      October                   November                  December\n",
      "Mo Tu We Th Fr Sa Su      Mo Tu We Th Fr Sa Su      Mo Tu We Th Fr Sa Su\n",
      "                1  2          1  2  3  4  5  6                1  2  3  4\n",
      " 3  4  5  6  7  8  9       7  8  9 10 11 12 13       5  6  7  8  9 10 11\n",
      "10 11 12 13 14 15 16      14 15 16 17 18 19 20      12 13 14 15 16 17 18\n",
      "17 18 19 20 21 22 23      21 22 23 24 25 26 27      19 20 21 22 23 24 25\n",
      "24 25 26 27 28 29 30      28 29 30                  26 27 28 29 30 31\n",
      "31\n",
      "\n"
     ]
    }
   ],
   "source": [
    "import calendar\n",
    "year = int(input('enter calender year :'))\n",
    "calendar = calendar.calendar(year)\n",
    "print(calendar)"
   ]
  },
  {
   "cell_type": "markdown",
   "id": "f429309a",
   "metadata": {},
   "source": [
    "Q 4.Write a Python program to solve quadartic equation ?"
   ]
  },
  {
   "cell_type": "code",
   "execution_count": 40,
   "id": "6d8bd060",
   "metadata": {},
   "outputs": [
    {
     "name": "stdout",
     "output_type": "stream",
     "text": [
      "enter the a :9\n",
      "enter the b :6\n",
      "enter the c :10\n",
      "there are 2 rooots:  (-0.3333333333333333+1j) (-0.3333333333333333-1j)\n"
     ]
    }
   ],
   "source": [
    "import cmath\n",
    "a = float(input('enter the a :'))\n",
    "b = float(input('enter the b :'))\n",
    "c = float(input('enter the c :'))\n",
    "\n",
    "r = (b **2 )-(4 * a * c )\n",
    "\n",
    "num_roots = 2\n",
    "x1 = (((-b) + cmath.sqrt(r))/(2*a))\n",
    "x2 = (((-b) - cmath.sqrt(r))/(2*a))\n",
    "print(\"there are 2 rooots: \",x1,x2)"
   ]
  },
  {
   "cell_type": "markdown",
   "id": "387a7262",
   "metadata": {},
   "source": [
    "Q 5.Write a Python program to swap two variables without temp variable ?"
   ]
  },
  {
   "cell_type": "code",
   "execution_count": 45,
   "id": "1b7292cc",
   "metadata": {},
   "outputs": [
    {
     "name": "stdout",
     "output_type": "stream",
     "text": [
      "enter the number10\n",
      "enter the number20\n",
      "before swap 10 20\n",
      "after swap : 20 10\n"
     ]
    }
   ],
   "source": [
    "a = int(input(\"enter the number\"))\n",
    "b = int(input(\"enter the number\"))\n",
    "print('before swap',a ,b)\n",
    "a , b = b , a\n",
    "print('after swap :', a , b)\n",
    "    "
   ]
  },
  {
   "cell_type": "code",
   "execution_count": null,
   "id": "278c3cfd",
   "metadata": {},
   "outputs": [],
   "source": []
  }
 ],
 "metadata": {
  "kernelspec": {
   "display_name": "Python 3 (ipykernel)",
   "language": "python",
   "name": "python3"
  },
  "language_info": {
   "codemirror_mode": {
    "name": "ipython",
    "version": 3
   },
   "file_extension": ".py",
   "mimetype": "text/x-python",
   "name": "python",
   "nbconvert_exporter": "python",
   "pygments_lexer": "ipython3",
   "version": "3.9.7"
  }
 },
 "nbformat": 4,
 "nbformat_minor": 5
}
